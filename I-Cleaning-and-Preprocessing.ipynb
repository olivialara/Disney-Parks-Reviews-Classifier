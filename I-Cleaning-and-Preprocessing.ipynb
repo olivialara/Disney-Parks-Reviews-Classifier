{
 "cells": [
  {
   "cell_type": "markdown",
   "id": "4210c1b8-4a0b-4e70-bf78-0c9cc201cd7c",
   "metadata": {},
   "source": [
    "# Project 5: Disneyland Park and Rating Classifier\n",
    "## Part I: Cleaning and Preprocessing Data"
   ]
  },
  {
   "cell_type": "markdown",
   "id": "f060b2d6-af42-42fe-b618-2387d0e010be",
   "metadata": {},
   "source": [
    "### 1. Imports"
   ]
  },
  {
   "cell_type": "code",
   "execution_count": 1,
   "id": "4f6508f4-b7e5-4cc1-8e6e-648e26ee1034",
   "metadata": {
    "tags": []
   },
   "outputs": [],
   "source": [
    "import os\n",
    "import sys\n",
    "\n",
    "# essentials:\n",
    "import pandas as pd\n",
    "import numpy as np\n",
    "import matplotlib.pyplot as plt\n",
    "import seaborn as sns \n",
    "\n",
    "\n",
    "# plotly:\n",
    "import plotly\n",
    "import plotly.express as px\n",
    "from plotly.subplots import make_subplots\n",
    "import plotly.graph_objects as go\n",
    "\n",
    "# scikit-learn:\n",
    "from sklearn.feature_extraction.text import CountVectorizer, TfidfVectorizer\n",
    "from sklearn.feature_selection import RFE\n",
    "from sklearn.model_selection import train_test_split, GridSearchCV, cross_val_score\n",
    "from sklearn.linear_model import LinearRegression, Ridge, Lasso, LogisticRegression, ElasticNet\n",
    "from sklearn.metrics import mean_squared_error, mean_absolute_error, r2_score, f1_score, balanced_accuracy_score, accuracy_score, RocCurveDisplay, roc_auc_score, recall_score, precision_score, confusion_matrix\n",
    "from sklearn.compose import make_column_transformer, make_column_selector\n",
    "from sklearn.neighbors import NearestNeighbors, KNeighborsClassifier, KNeighborsRegressor\n",
    "from sklearn.pipeline import make_pipeline\n",
    "from sklearn.impute import KNNImputer, SimpleImputer\n",
    "from sklearn.preprocessing import StandardScaler, OneHotEncoder, PolynomialFeatures\n",
    "from sklearn.metrics import precision_score, recall_score, accuracy_score, ConfusionMatrixDisplay, roc_auc_score\n",
    "from sklearn.tree import DecisionTreeRegressor, DecisionTreeClassifier, plot_tree\n",
    "from sklearn.ensemble import VotingRegressor, BaggingClassifier, BaggingRegressor, RandomForestClassifier, RandomForestRegressor, ExtraTreesClassifier\n",
    "from sklearn.ensemble import AdaBoostRegressor, AdaBoostClassifier, GradientBoostingRegressor, GradientBoostingClassifier, HistGradientBoostingClassifier, HistGradientBoostingRegressor \n",
    "from sklearn.dummy import DummyClassifier\n",
    "from sklearn.naive_bayes import MultinomialNB\n",
    "from sklearn.inspection import plot_partial_dependence\n",
    "from sklearn.feature_extraction import text \n",
    "from sklearn.svm import SVC\n",
    "\n",
    "# NN & NLP scikit-learn:\n",
    "from sklearn.neural_network import MLPClassifier\n",
    "from sklearn.linear_model import Perceptron\n",
    "from sklearn.datasets import make_blobs\n",
    "from sklearn.datasets import fetch_openml, make_classification, make_regression\n",
    "from sklearn import set_config\n",
    "from sklearn.base import BaseEstimator, TransformerMixin\n",
    "\n",
    "# unsupervised learning scikit-learn:\n",
    "from sklearn.cluster import KMeans\n",
    "from sklearn.metrics import silhouette_score\n",
    "from sklearn.cluster import DBSCAN\n",
    "from sklearn.cluster import AgglomerativeClustering\n",
    "from sklearn.decomposition import PCA\n",
    "from sklearn.metrics.pairwise import pairwise_distances, cosine_distances, cosine_similarity\n",
    "\n",
    "# imblearn:\n",
    "from imblearn.pipeline import make_pipeline\n",
    "from imblearn.over_sampling import RandomOverSampler, SMOTE, ADASYN, SMOTENC\n",
    "\n",
    "# API & Webscraping:\n",
    "import time\n",
    "import requests\n",
    "import datetime\n",
    "from bs4 import BeautifulSoup\n",
    "\n",
    "# nltk:\n",
    "import nltk\n",
    "from nltk.tokenize import sent_tokenize, word_tokenize, RegexpTokenizer\n",
    "from nltk.stem import WordNetLemmatizer, PorterStemmer\n",
    "from nltk.corpus import stopwords\n",
    "from nltk.chunk.regexp import RegexpParser\n",
    "from nltk.chunk import tree2conlltags\n",
    "from nltk import word_tokenize\n",
    "from nltk.corpus import PlaintextCorpusReader\n",
    "\n",
    "# other nlp libraries:\n",
    "from vaderSentiment.vaderSentiment import SentimentIntensityAnalyzer\n",
    "from textblob import TextBlob\n",
    "from nltk.sentiment import SentimentIntensityAnalyzer\n",
    "from transformers import pipeline\n",
    "from spacytextblob.spacytextblob import SpacyTextBlob\n",
    "\n",
    "# tensorflow/keras:\n",
    "import tensorflow as tf\n",
    "import tensorboard\n",
    "from tensorflow.keras.layers import Dense, Flatten, Conv2D, MaxPool2D\n",
    "from tensorflow.keras.models import Sequential\n",
    "from tensorflow.keras.wrappers.scikit_learn import KerasClassifier, KerasRegressor\n",
    "from tensorflow.keras.datasets import mnist\n",
    "from tensorflow.keras.utils import to_categorical\n",
    "from keras.preprocessing.text import Tokenizer\n",
    "from keras.layers import SimpleRNN, LSTM, GRU, Dense\n",
    "from keras.preprocessing.sequence import pad_sequences\n",
    "from keras.layers import Embedding\n",
    "from keras.layers import Bidirectional\n",
    "from keras.preprocessing.sequence import TimeseriesGenerator\n",
    "from keras.layers import Conv1D, MaxPooling1D, GlobalMaxPooling1D\n",
    "from tensorflow.keras.callbacks import EarlyStopping\n",
    "\n",
    "# time series/sktime:\n",
    "import sktime\n",
    "import statsmodels\n",
    "import pmdarima as pmd\n",
    "import pandas_datareader as pdr\n",
    "from keras.preprocessing.sequence import TimeseriesGenerator\n",
    "from sktime.forecasting.compose import EnsembleForecaster\n",
    "from sktime.forecasting.model_selection import temporal_train_test_split\n",
    "from sktime.forecasting.naive import NaiveForecaster\n",
    "from sktime.forecasting.arima import AutoARIMA\n",
    "from sktime.forecasting.ets import AutoETS\n",
    "from sktime.utils.plotting import plot_series\n",
    "\n",
    "\n",
    "# spacy: \n",
    "import spacy\n",
    "from spacy.matcher import Matcher\n",
    "from spacy import displacy\n",
    "\n",
    "# statsmodels:\n",
    "import statsmodels.api as sm\n",
    "from statsmodels.graphics.tsaplots import plot_acf, plot_pacf\n",
    "from statsmodels.tsa.stattools import acf, pacf\n",
    "\n",
    "# emojis:\n",
    "import emoji\n",
    "import demoji\n",
    "\n",
    "# others:\n",
    "import scipy.stats as stats\n",
    "import missingno as msno\n",
    "from itertools import groupby\n",
    "from IPython.display import display"
   ]
  },
  {
   "cell_type": "markdown",
   "id": "6f66e5e1-0dbc-4abb-85c3-a58ed22816fd",
   "metadata": {},
   "source": [
    "### 2. Read in & Inspect Data"
   ]
  },
  {
   "cell_type": "code",
   "execution_count": 2,
   "id": "c1253625-b7a1-4a54-8fe7-36701364df6a",
   "metadata": {},
   "outputs": [],
   "source": [
    "disney = pd.read_csv('../data/DisneylandReviews.csv', encoding='latin-1')"
   ]
  },
  {
   "cell_type": "code",
   "execution_count": 3,
   "id": "7aaacc98-6232-42b1-952f-f0cdc17cbd60",
   "metadata": {},
   "outputs": [
    {
     "data": {
      "text/html": [
       "<div>\n",
       "<style scoped>\n",
       "    .dataframe tbody tr th:only-of-type {\n",
       "        vertical-align: middle;\n",
       "    }\n",
       "\n",
       "    .dataframe tbody tr th {\n",
       "        vertical-align: top;\n",
       "    }\n",
       "\n",
       "    .dataframe thead th {\n",
       "        text-align: right;\n",
       "    }\n",
       "</style>\n",
       "<table border=\"1\" class=\"dataframe\">\n",
       "  <thead>\n",
       "    <tr style=\"text-align: right;\">\n",
       "      <th></th>\n",
       "      <th>Review_ID</th>\n",
       "      <th>Rating</th>\n",
       "      <th>Year_Month</th>\n",
       "      <th>Reviewer_Location</th>\n",
       "      <th>Review_Text</th>\n",
       "      <th>Branch</th>\n",
       "    </tr>\n",
       "  </thead>\n",
       "  <tbody>\n",
       "    <tr>\n",
       "      <th>0</th>\n",
       "      <td>670772142</td>\n",
       "      <td>4</td>\n",
       "      <td>2019-4</td>\n",
       "      <td>Australia</td>\n",
       "      <td>If you've ever been to Disneyland anywhere you...</td>\n",
       "      <td>Disneyland_HongKong</td>\n",
       "    </tr>\n",
       "    <tr>\n",
       "      <th>1</th>\n",
       "      <td>670682799</td>\n",
       "      <td>4</td>\n",
       "      <td>2019-5</td>\n",
       "      <td>Philippines</td>\n",
       "      <td>Its been a while since d last time we visit HK...</td>\n",
       "      <td>Disneyland_HongKong</td>\n",
       "    </tr>\n",
       "    <tr>\n",
       "      <th>2</th>\n",
       "      <td>670623270</td>\n",
       "      <td>4</td>\n",
       "      <td>2019-4</td>\n",
       "      <td>United Arab Emirates</td>\n",
       "      <td>Thanks God it wasn   t too hot or too humid wh...</td>\n",
       "      <td>Disneyland_HongKong</td>\n",
       "    </tr>\n",
       "    <tr>\n",
       "      <th>3</th>\n",
       "      <td>670607911</td>\n",
       "      <td>4</td>\n",
       "      <td>2019-4</td>\n",
       "      <td>Australia</td>\n",
       "      <td>HK Disneyland is a great compact park. Unfortu...</td>\n",
       "      <td>Disneyland_HongKong</td>\n",
       "    </tr>\n",
       "    <tr>\n",
       "      <th>4</th>\n",
       "      <td>670607296</td>\n",
       "      <td>4</td>\n",
       "      <td>2019-4</td>\n",
       "      <td>United Kingdom</td>\n",
       "      <td>the location is not in the city, took around 1...</td>\n",
       "      <td>Disneyland_HongKong</td>\n",
       "    </tr>\n",
       "  </tbody>\n",
       "</table>\n",
       "</div>"
      ],
      "text/plain": [
       "   Review_ID  Rating Year_Month     Reviewer_Location  \\\n",
       "0  670772142       4     2019-4             Australia   \n",
       "1  670682799       4     2019-5           Philippines   \n",
       "2  670623270       4     2019-4  United Arab Emirates   \n",
       "3  670607911       4     2019-4             Australia   \n",
       "4  670607296       4     2019-4        United Kingdom   \n",
       "\n",
       "                                         Review_Text               Branch  \n",
       "0  If you've ever been to Disneyland anywhere you...  Disneyland_HongKong  \n",
       "1  Its been a while since d last time we visit HK...  Disneyland_HongKong  \n",
       "2  Thanks God it wasn   t too hot or too humid wh...  Disneyland_HongKong  \n",
       "3  HK Disneyland is a great compact park. Unfortu...  Disneyland_HongKong  \n",
       "4  the location is not in the city, took around 1...  Disneyland_HongKong  "
      ]
     },
     "execution_count": 3,
     "metadata": {},
     "output_type": "execute_result"
    }
   ],
   "source": [
    "disney.head()"
   ]
  },
  {
   "cell_type": "code",
   "execution_count": 4,
   "id": "1a05d3c8-d71c-4094-8061-83a89f889bde",
   "metadata": {},
   "outputs": [
    {
     "name": "stdout",
     "output_type": "stream",
     "text": [
      "<class 'pandas.core.frame.DataFrame'>\n",
      "RangeIndex: 42656 entries, 0 to 42655\n",
      "Data columns (total 6 columns):\n",
      " #   Column             Non-Null Count  Dtype \n",
      "---  ------             --------------  ----- \n",
      " 0   Review_ID          42656 non-null  int64 \n",
      " 1   Rating             42656 non-null  int64 \n",
      " 2   Year_Month         42656 non-null  object\n",
      " 3   Reviewer_Location  42656 non-null  object\n",
      " 4   Review_Text        42656 non-null  object\n",
      " 5   Branch             42656 non-null  object\n",
      "dtypes: int64(2), object(4)\n",
      "memory usage: 2.0+ MB\n"
     ]
    }
   ],
   "source": [
    "disney.info()"
   ]
  },
  {
   "cell_type": "code",
   "execution_count": 5,
   "id": "b8e3072a-d488-4c82-a4b4-9ad758cdc02d",
   "metadata": {},
   "outputs": [
    {
     "data": {
      "text/html": [
       "<div>\n",
       "<style scoped>\n",
       "    .dataframe tbody tr th:only-of-type {\n",
       "        vertical-align: middle;\n",
       "    }\n",
       "\n",
       "    .dataframe tbody tr th {\n",
       "        vertical-align: top;\n",
       "    }\n",
       "\n",
       "    .dataframe thead th {\n",
       "        text-align: right;\n",
       "    }\n",
       "</style>\n",
       "<table border=\"1\" class=\"dataframe\">\n",
       "  <thead>\n",
       "    <tr style=\"text-align: right;\">\n",
       "      <th></th>\n",
       "      <th>Review_ID</th>\n",
       "      <th>Rating</th>\n",
       "    </tr>\n",
       "  </thead>\n",
       "  <tbody>\n",
       "    <tr>\n",
       "      <th>count</th>\n",
       "      <td>4.265600e+04</td>\n",
       "      <td>42656.000000</td>\n",
       "    </tr>\n",
       "    <tr>\n",
       "      <th>mean</th>\n",
       "      <td>3.188553e+08</td>\n",
       "      <td>4.217695</td>\n",
       "    </tr>\n",
       "    <tr>\n",
       "      <th>std</th>\n",
       "      <td>1.657092e+08</td>\n",
       "      <td>1.063371</td>\n",
       "    </tr>\n",
       "    <tr>\n",
       "      <th>min</th>\n",
       "      <td>1.398724e+06</td>\n",
       "      <td>1.000000</td>\n",
       "    </tr>\n",
       "    <tr>\n",
       "      <th>25%</th>\n",
       "      <td>1.743274e+08</td>\n",
       "      <td>4.000000</td>\n",
       "    </tr>\n",
       "    <tr>\n",
       "      <th>50%</th>\n",
       "      <td>2.907583e+08</td>\n",
       "      <td>5.000000</td>\n",
       "    </tr>\n",
       "    <tr>\n",
       "      <th>75%</th>\n",
       "      <td>4.489579e+08</td>\n",
       "      <td>5.000000</td>\n",
       "    </tr>\n",
       "    <tr>\n",
       "      <th>max</th>\n",
       "      <td>6.708014e+08</td>\n",
       "      <td>5.000000</td>\n",
       "    </tr>\n",
       "  </tbody>\n",
       "</table>\n",
       "</div>"
      ],
      "text/plain": [
       "          Review_ID        Rating\n",
       "count  4.265600e+04  42656.000000\n",
       "mean   3.188553e+08      4.217695\n",
       "std    1.657092e+08      1.063371\n",
       "min    1.398724e+06      1.000000\n",
       "25%    1.743274e+08      4.000000\n",
       "50%    2.907583e+08      5.000000\n",
       "75%    4.489579e+08      5.000000\n",
       "max    6.708014e+08      5.000000"
      ]
     },
     "execution_count": 5,
     "metadata": {},
     "output_type": "execute_result"
    }
   ],
   "source": [
    "disney.describe()"
   ]
  },
  {
   "cell_type": "code",
   "execution_count": 6,
   "id": "7d6846f8-e7dd-44b2-ae89-dfd51c1bbd71",
   "metadata": {},
   "outputs": [
    {
     "data": {
      "text/plain": [
       "Review_ID            0\n",
       "Rating               0\n",
       "Year_Month           0\n",
       "Reviewer_Location    0\n",
       "Review_Text          0\n",
       "Branch               0\n",
       "dtype: int64"
      ]
     },
     "execution_count": 6,
     "metadata": {},
     "output_type": "execute_result"
    }
   ],
   "source": [
    "disney.isna().sum()"
   ]
  },
  {
   "cell_type": "code",
   "execution_count": 7,
   "id": "f211378e-b19a-4025-8012-dbc23797cc2e",
   "metadata": {},
   "outputs": [
    {
     "data": {
      "text/plain": [
       "5"
      ]
     },
     "execution_count": 7,
     "metadata": {},
     "output_type": "execute_result"
    }
   ],
   "source": [
    "disney['Rating'].nunique()"
   ]
  },
  {
   "cell_type": "code",
   "execution_count": 8,
   "id": "45bd2316-6912-4a0f-812e-9045ee7c7352",
   "metadata": {},
   "outputs": [
    {
     "data": {
      "text/plain": [
       "5    23146\n",
       "4    10775\n",
       "3     5109\n",
       "2     2127\n",
       "1     1499\n",
       "Name: Rating, dtype: int64"
      ]
     },
     "execution_count": 8,
     "metadata": {},
     "output_type": "execute_result"
    }
   ],
   "source": [
    "disney['Rating'].value_counts()"
   ]
  },
  {
   "cell_type": "code",
   "execution_count": 9,
   "id": "054ffb0d-d98b-4fcb-9c26-2d1c899785dc",
   "metadata": {},
   "outputs": [
    {
     "data": {
      "text/plain": [
       "array(['Disneyland_HongKong', 'Disneyland_California', 'Disneyland_Paris'],\n",
       "      dtype=object)"
      ]
     },
     "execution_count": 9,
     "metadata": {},
     "output_type": "execute_result"
    }
   ],
   "source": [
    "disney['Branch'].unique()"
   ]
  },
  {
   "cell_type": "code",
   "execution_count": 10,
   "id": "1ff1192e-7f8f-4e58-a632-382665443867",
   "metadata": {},
   "outputs": [
    {
     "data": {
      "text/plain": [
       "Disneyland_California    19406\n",
       "Disneyland_Paris         13630\n",
       "Disneyland_HongKong       9620\n",
       "Name: Branch, dtype: int64"
      ]
     },
     "execution_count": 10,
     "metadata": {},
     "output_type": "execute_result"
    }
   ],
   "source": [
    "disney['Branch'].value_counts()"
   ]
  },
  {
   "cell_type": "code",
   "execution_count": 11,
   "id": "813fe857-144b-4ab9-adca-63002b0e667e",
   "metadata": {},
   "outputs": [
    {
     "data": {
      "text/plain": [
       "United States     14551\n",
       "United Kingdom     9751\n",
       "Australia          4679\n",
       "Canada             2235\n",
       "India              1511\n",
       "                  ...  \n",
       "Namibia               1\n",
       "Armenia               1\n",
       "Timor-Leste           1\n",
       "South Sudan           1\n",
       "Åland Islands         1\n",
       "Name: Reviewer_Location, Length: 162, dtype: int64"
      ]
     },
     "execution_count": 11,
     "metadata": {},
     "output_type": "execute_result"
    }
   ],
   "source": [
    "disney['Reviewer_Location'].value_counts()"
   ]
  },
  {
   "cell_type": "code",
   "execution_count": 12,
   "id": "970d0a8b-4e8d-4b2a-ac52-2928766db9eb",
   "metadata": {},
   "outputs": [
    {
     "data": {
      "text/plain": [
       "4.204158004158004"
      ]
     },
     "execution_count": 12,
     "metadata": {},
     "output_type": "execute_result"
    }
   ],
   "source": [
    "# average rating for hong kong park\n",
    "disney['Rating'][disney['Branch'] == 'Disneyland_HongKong'].mean()"
   ]
  },
  {
   "cell_type": "code",
   "execution_count": 13,
   "id": "e57cbb14-716c-498a-b7ba-ec8c02160a27",
   "metadata": {},
   "outputs": [
    {
     "data": {
      "text/plain": [
       "4.405338555086056"
      ]
     },
     "execution_count": 13,
     "metadata": {},
     "output_type": "execute_result"
    }
   ],
   "source": [
    "# average rating for california park\n",
    "disney['Rating'][disney['Branch'] == 'Disneyland_California'].mean()"
   ]
  },
  {
   "cell_type": "code",
   "execution_count": 14,
   "id": "d579744f-a761-4919-b2b7-20ee7f8c161c",
   "metadata": {},
   "outputs": [
    {
     "data": {
      "text/plain": [
       "3.96008804108584"
      ]
     },
     "execution_count": 14,
     "metadata": {},
     "output_type": "execute_result"
    }
   ],
   "source": [
    "# average rating for paris park\n",
    "disney['Rating'][disney['Branch'] == 'Disneyland_Paris'].mean()"
   ]
  },
  {
   "cell_type": "code",
   "execution_count": 15,
   "id": "1d2ecfaa-e758-4bbd-861c-8b7c2f5d3ee8",
   "metadata": {},
   "outputs": [],
   "source": [
    "# drop unneeded column\n",
    "disney.drop(columns = ['Review_ID'], inplace = True)"
   ]
  },
  {
   "cell_type": "markdown",
   "id": "252a5e57-ec0d-4257-aa81-7ccd33ae8d2b",
   "metadata": {},
   "source": [
    "### 3. Feature Engineering"
   ]
  },
  {
   "cell_type": "code",
   "execution_count": 16,
   "id": "20f81977-6d8f-4f1d-b8b8-9bdc51b6f36c",
   "metadata": {},
   "outputs": [],
   "source": [
    "# text word count column\n",
    "disney['text_word_count'] = disney['Review_Text'].str.split().str.len()"
   ]
  },
  {
   "cell_type": "code",
   "execution_count": 17,
   "id": "ae8e4e74-491e-4344-bd3e-a81dbd151b83",
   "metadata": {},
   "outputs": [],
   "source": [
    "# get months function\n",
    "def get_months(date):\n",
    "    return (date[5:])\n",
    "    "
   ]
  },
  {
   "cell_type": "code",
   "execution_count": 18,
   "id": "0bbdedc9-5aa2-4d89-95be-c9862116bc3d",
   "metadata": {},
   "outputs": [],
   "source": [
    "# month column\n",
    "disney['month'] = disney['Year_Month'].map(get_months)"
   ]
  },
  {
   "cell_type": "code",
   "execution_count": 19,
   "id": "ccc4d01b-8c25-48cf-9708-0fa6c2c72654",
   "metadata": {},
   "outputs": [],
   "source": [
    "# get years function\n",
    "def get_years(date):\n",
    "    return (date[0:4])"
   ]
  },
  {
   "cell_type": "code",
   "execution_count": 20,
   "id": "25c8f653-5450-45c8-ab4d-f19c3d80231a",
   "metadata": {},
   "outputs": [],
   "source": [
    "# year column\n",
    "disney['year'] = disney['Year_Month'].map(get_years)"
   ]
  },
  {
   "cell_type": "markdown",
   "id": "819d551a-0710-491c-b878-518b6965c153",
   "metadata": {},
   "source": [
    "### 4. Remove Unnecessary Characters with RegEx"
   ]
  },
  {
   "cell_type": "code",
   "execution_count": 21,
   "id": "bfae76dd-0acc-46b9-9756-d50fc2e1723d",
   "metadata": {},
   "outputs": [],
   "source": [
    "# citation: Breakfast Hour - NLP Practice I\n",
    "\n",
    "def regex_cleaner(words):\n",
    "    \n",
    "    # set token\n",
    "    my_tokenizer = RegexpTokenizer(\"[\\w']+|\\$[\\d\\.]+\")\n",
    "    \n",
    "    # tokenize words\n",
    "    clean_words = my_tokenizer.tokenize(words.lower())\n",
    "    \n",
    "    # return words\n",
    "    return ' '.join(clean_words)"
   ]
  },
  {
   "cell_type": "code",
   "execution_count": 22,
   "id": "71c46fed-69c2-48b0-a84b-a00626179b93",
   "metadata": {},
   "outputs": [
    {
     "data": {
      "text/plain": [
       "\"if you've ever been to disneyland anywhere you'll find disneyland hong kong very similar in the layout when you walk into main street it has a very familiar feel one of the rides its a small world is absolutely fabulous and worth doing the day we visited was fairly hot and relatively busy but the queues moved fairly well\""
      ]
     },
     "execution_count": 22,
     "metadata": {},
     "output_type": "execute_result"
    }
   ],
   "source": [
    "# test function\n",
    "regex_cleaner(disney[\"Review_Text\"].loc[0])"
   ]
  },
  {
   "cell_type": "code",
   "execution_count": 23,
   "id": "395f25b4-ba92-4558-8a00-86a96c6a6832",
   "metadata": {},
   "outputs": [],
   "source": [
    "disney['clean_text'] = disney['Review_Text'].map(regex_cleaner)"
   ]
  },
  {
   "cell_type": "markdown",
   "id": "12aa252f-f7a5-455e-bfa4-0746e4404ba1",
   "metadata": {},
   "source": [
    "### 5. Add Subjectivity with Textblob Library"
   ]
  },
  {
   "cell_type": "markdown",
   "id": "5e7d3f83-db98-4cb8-8f71-f085dc1e6e91",
   "metadata": {},
   "source": [
    "Info: Subjectivity lies between [0,1]. Subjectivity quantifies the amount of personal opinion and factual information contained in the text"
   ]
  },
  {
   "cell_type": "code",
   "execution_count": 24,
   "id": "ed6b4819-4f0a-4a81-90fb-71085f7b2da5",
   "metadata": {
    "tags": []
   },
   "outputs": [],
   "source": [
    "# get subjectivity scores of reviews\n",
    "disney['subjectivity'] = disney['clean_text'].apply(lambda review: TextBlob(review).sentiment.subjectivity)"
   ]
  },
  {
   "cell_type": "markdown",
   "id": "ed04892b-a7dd-42d9-8dc8-bb19e03108be",
   "metadata": {},
   "source": [
    "### 6. Add Polarity with Textblob, Vader Sentiment, and Hugging Face Libraries"
   ]
  },
  {
   "cell_type": "markdown",
   "id": "08e584ff-23c2-412b-988b-b5c1a781af39",
   "metadata": {},
   "source": [
    "**Textblob Library**"
   ]
  },
  {
   "cell_type": "markdown",
   "id": "aff22621-9b8f-441d-b45f-81e444d9155b",
   "metadata": {},
   "source": [
    "Info: Polarity lies between [-1,1], -1 defines a negative sentiment and 1 defines a positive sentiment."
   ]
  },
  {
   "cell_type": "code",
   "execution_count": 25,
   "id": "d9184b37-922a-4645-bbee-7159146444e9",
   "metadata": {},
   "outputs": [],
   "source": [
    "# add polarity scores of reviews using text blob library\n",
    "disney['tb_polarity'] = disney['clean_text'].apply(lambda review: TextBlob(review).sentiment.polarity)"
   ]
  },
  {
   "cell_type": "markdown",
   "id": "6d8a724b-96fd-45f9-8e72-8492312bd3ec",
   "metadata": {},
   "source": [
    "**Vader Sentiment Library**"
   ]
  },
  {
   "cell_type": "code",
   "execution_count": 26,
   "id": "e8f10465-cb80-400a-8fd2-4140c3dfca62",
   "metadata": {},
   "outputs": [],
   "source": [
    "# function to retrieve polarity scores of reviews using vader sentiment library\n",
    "def get_vs_polarity(review):\n",
    " \n",
    "    # create a SentimentIntensityAnalyzer object\n",
    "    sid_obj = SentimentIntensityAnalyzer()\n",
    "    \n",
    "    # get polarity score\n",
    "    sentiment_dict = sid_obj.polarity_scores(review)\n",
    " \n",
    "    return sentiment_dict['compound']"
   ]
  },
  {
   "cell_type": "code",
   "execution_count": 28,
   "id": "5ff3a0d0-705d-409e-92c6-19a70a5f426d",
   "metadata": {},
   "outputs": [
    {
     "name": "stderr",
     "output_type": "stream",
     "text": [
      "[nltk_data] Downloading package vader_lexicon to\n",
      "[nltk_data]     /Users/olivialara/nltk_data...\n"
     ]
    },
    {
     "data": {
      "text/plain": [
       "True"
      ]
     },
     "execution_count": 28,
     "metadata": {},
     "output_type": "execute_result"
    }
   ],
   "source": [
    "nltk.download('vader_lexicon')"
   ]
  },
  {
   "cell_type": "code",
   "execution_count": 29,
   "id": "25148925-5bf3-4059-b6d4-bfdbc5124684",
   "metadata": {},
   "outputs": [],
   "source": [
    "# add polarity scores of reviews using vader sentiment library\n",
    "disney['vs_polarity'] = disney['clean_text'].apply(get_vs_polarity)"
   ]
  },
  {
   "cell_type": "markdown",
   "id": "9a7726d5-efcc-4dd1-8d11-4b62e664e2da",
   "metadata": {},
   "source": [
    "**Hugging Face Library**"
   ]
  },
  {
   "cell_type": "code",
   "execution_count": 30,
   "id": "11a6a6fc-ce19-4b87-8ebc-9b700e0e9d22",
   "metadata": {},
   "outputs": [
    {
     "name": "stderr",
     "output_type": "stream",
     "text": [
      "No model was supplied, defaulted to distilbert-base-uncased-finetuned-sst-2-english (https://huggingface.co/distilbert-base-uncased-finetuned-sst-2-english)\n",
      "2022-01-02 21:31:41.972433: I tensorflow/core/platform/cpu_feature_guard.cc:142] This TensorFlow binary is optimized with oneAPI Deep Neural Network Library (oneDNN) to use the following CPU instructions in performance-critical operations:  AVX2 FMA\n",
      "To enable them in other operations, rebuild TensorFlow with the appropriate compiler flags.\n",
      "2022-01-02 21:31:41.986979: W tensorflow/python/util/util.cc:348] Sets are not currently considered sequences, but this may change in the future, so consider avoiding using them.\n",
      "All model checkpoint layers were used when initializing TFDistilBertForSequenceClassification.\n",
      "\n",
      "All the layers of TFDistilBertForSequenceClassification were initialized from the model checkpoint at distilbert-base-uncased-finetuned-sst-2-english.\n",
      "If your task is similar to the task the model of the checkpoint was trained on, you can already use TFDistilBertForSequenceClassification for predictions without further training.\n"
     ]
    }
   ],
   "source": [
    "# pipeline for sentiment analysis from hugging face library\n",
    "clf = pipeline(\"sentiment-analysis\")"
   ]
  },
  {
   "cell_type": "code",
   "execution_count": 31,
   "id": "a4978b09-f4af-4559-a7eb-b8e368346973",
   "metadata": {},
   "outputs": [
    {
     "data": {
      "text/plain": [
       "{'label': 'POSITIVE', 'score': 0.9998108744621277}"
      ]
     },
     "execution_count": 31,
     "metadata": {},
     "output_type": "execute_result"
    }
   ],
   "source": [
    "# example of positive review \n",
    "clf(disney[\"clean_text\"].loc[0])[0]"
   ]
  },
  {
   "cell_type": "code",
   "execution_count": 32,
   "id": "6e904285-bf9b-45b6-8fef-f5551b9135e3",
   "metadata": {},
   "outputs": [
    {
     "data": {
      "text/html": [
       "<div>\n",
       "<style scoped>\n",
       "    .dataframe tbody tr th:only-of-type {\n",
       "        vertical-align: middle;\n",
       "    }\n",
       "\n",
       "    .dataframe tbody tr th {\n",
       "        vertical-align: top;\n",
       "    }\n",
       "\n",
       "    .dataframe thead th {\n",
       "        text-align: right;\n",
       "    }\n",
       "</style>\n",
       "<table border=\"1\" class=\"dataframe\">\n",
       "  <thead>\n",
       "    <tr style=\"text-align: right;\">\n",
       "      <th></th>\n",
       "      <th>Rating</th>\n",
       "      <th>Year_Month</th>\n",
       "      <th>Reviewer_Location</th>\n",
       "      <th>Review_Text</th>\n",
       "      <th>Branch</th>\n",
       "      <th>text_word_count</th>\n",
       "      <th>month</th>\n",
       "      <th>year</th>\n",
       "      <th>clean_text</th>\n",
       "      <th>subjectivity</th>\n",
       "      <th>tb_polarity</th>\n",
       "      <th>vs_polarity</th>\n",
       "    </tr>\n",
       "  </thead>\n",
       "  <tbody>\n",
       "    <tr>\n",
       "      <th>101</th>\n",
       "      <td>1</td>\n",
       "      <td>2019-3</td>\n",
       "      <td>India</td>\n",
       "      <td>The main attractions were shut while we still ...</td>\n",
       "      <td>Disneyland_HongKong</td>\n",
       "      <td>23</td>\n",
       "      <td>3</td>\n",
       "      <td>2019</td>\n",
       "      <td>the main attractions were shut while we still ...</td>\n",
       "      <td>0.441667</td>\n",
       "      <td>0.258333</td>\n",
       "      <td>0.4215</td>\n",
       "    </tr>\n",
       "    <tr>\n",
       "      <th>144</th>\n",
       "      <td>1</td>\n",
       "      <td>2019-3</td>\n",
       "      <td>United Arab Emirates</td>\n",
       "      <td>Visited Disneyland Hong Kong today March 15, 2...</td>\n",
       "      <td>Disneyland_HongKong</td>\n",
       "      <td>92</td>\n",
       "      <td>3</td>\n",
       "      <td>2019</td>\n",
       "      <td>visited disneyland hong kong today march 15 20...</td>\n",
       "      <td>0.420556</td>\n",
       "      <td>-0.051250</td>\n",
       "      <td>-0.4402</td>\n",
       "    </tr>\n",
       "    <tr>\n",
       "      <th>236</th>\n",
       "      <td>1</td>\n",
       "      <td>2019-2</td>\n",
       "      <td>Macau</td>\n",
       "      <td>Every year I come to Disney with my children, ...</td>\n",
       "      <td>Disneyland_HongKong</td>\n",
       "      <td>57</td>\n",
       "      <td>2</td>\n",
       "      <td>2019</td>\n",
       "      <td>every year i come to disney with my children e...</td>\n",
       "      <td>0.696230</td>\n",
       "      <td>-0.190377</td>\n",
       "      <td>-0.4215</td>\n",
       "    </tr>\n",
       "    <tr>\n",
       "      <th>255</th>\n",
       "      <td>1</td>\n",
       "      <td>2018-10</td>\n",
       "      <td>Canada</td>\n",
       "      <td>I'm writing an honest and truthful opinion of ...</td>\n",
       "      <td>Disneyland_HongKong</td>\n",
       "      <td>128</td>\n",
       "      <td>10</td>\n",
       "      <td>2018</td>\n",
       "      <td>i'm writing an honest and truthful opinion of ...</td>\n",
       "      <td>0.550667</td>\n",
       "      <td>0.247667</td>\n",
       "      <td>0.7866</td>\n",
       "    </tr>\n",
       "    <tr>\n",
       "      <th>264</th>\n",
       "      <td>1</td>\n",
       "      <td>2019-1</td>\n",
       "      <td>Australia</td>\n",
       "      <td>Visited from Australia. Enjoyed the rides, par...</td>\n",
       "      <td>Disneyland_HongKong</td>\n",
       "      <td>314</td>\n",
       "      <td>1</td>\n",
       "      <td>2019</td>\n",
       "      <td>visited from australia enjoyed the rides parad...</td>\n",
       "      <td>0.510433</td>\n",
       "      <td>-0.082237</td>\n",
       "      <td>-0.4636</td>\n",
       "    </tr>\n",
       "  </tbody>\n",
       "</table>\n",
       "</div>"
      ],
      "text/plain": [
       "     Rating Year_Month     Reviewer_Location  \\\n",
       "101       1     2019-3                 India   \n",
       "144       1     2019-3  United Arab Emirates   \n",
       "236       1     2019-2                 Macau   \n",
       "255       1    2018-10                Canada   \n",
       "264       1     2019-1             Australia   \n",
       "\n",
       "                                           Review_Text               Branch  \\\n",
       "101  The main attractions were shut while we still ...  Disneyland_HongKong   \n",
       "144  Visited Disneyland Hong Kong today March 15, 2...  Disneyland_HongKong   \n",
       "236  Every year I come to Disney with my children, ...  Disneyland_HongKong   \n",
       "255  I'm writing an honest and truthful opinion of ...  Disneyland_HongKong   \n",
       "264  Visited from Australia. Enjoyed the rides, par...  Disneyland_HongKong   \n",
       "\n",
       "     text_word_count month  year  \\\n",
       "101               23     3  2019   \n",
       "144               92     3  2019   \n",
       "236               57     2  2019   \n",
       "255              128    10  2018   \n",
       "264              314     1  2019   \n",
       "\n",
       "                                            clean_text  subjectivity  \\\n",
       "101  the main attractions were shut while we still ...      0.441667   \n",
       "144  visited disneyland hong kong today march 15 20...      0.420556   \n",
       "236  every year i come to disney with my children e...      0.696230   \n",
       "255  i'm writing an honest and truthful opinion of ...      0.550667   \n",
       "264  visited from australia enjoyed the rides parad...      0.510433   \n",
       "\n",
       "     tb_polarity  vs_polarity  \n",
       "101     0.258333       0.4215  \n",
       "144    -0.051250      -0.4402  \n",
       "236    -0.190377      -0.4215  \n",
       "255     0.247667       0.7866  \n",
       "264    -0.082237      -0.4636  "
      ]
     },
     "execution_count": 32,
     "metadata": {},
     "output_type": "execute_result"
    }
   ],
   "source": [
    "# find index of review with low rating\n",
    "disney[disney['Rating'] == 1].head()"
   ]
  },
  {
   "cell_type": "code",
   "execution_count": 33,
   "id": "8f912e2a-c9a7-4cb9-9223-4ce1a559d5a7",
   "metadata": {},
   "outputs": [
    {
     "data": {
      "text/plain": [
       "{'label': 'NEGATIVE', 'score': 0.9992465972900391}"
      ]
     },
     "execution_count": 33,
     "metadata": {},
     "output_type": "execute_result"
    }
   ],
   "source": [
    "# example of negative review \n",
    "clf(disney[\"clean_text\"].loc[236])[0]"
   ]
  },
  {
   "cell_type": "code",
   "execution_count": 34,
   "id": "12720902-4283-4fe7-8575-a812fb375520",
   "metadata": {},
   "outputs": [],
   "source": [
    "# function to retrieve polarity scores of reviews using hugging face library\n",
    "def get_hf_polarity(review):\n",
    "    try: \n",
    "        # get inside first element of list\n",
    "        score_dict = clf(review)[0]\n",
    "    \n",
    "        # retrieve score value\n",
    "        score_num = score_dict['score']\n",
    "    \n",
    "        # add negative sign if negative\n",
    "        if score_dict['label'] == \"NEGATIVE\":\n",
    "            score_num *=  -1\n",
    "    \n",
    "        # return score rounded to nearest 6 decimal places\n",
    "        return(np.round(score_num, 6))\n",
    "    \n",
    "    except:\n",
    "        return 0"
   ]
  },
  {
   "cell_type": "code",
   "execution_count": 35,
   "id": "69949306-8ffc-4991-947b-be71d5a76a56",
   "metadata": {},
   "outputs": [
    {
     "data": {
      "text/plain": [
       "0.999811"
      ]
     },
     "execution_count": 35,
     "metadata": {},
     "output_type": "execute_result"
    }
   ],
   "source": [
    "# test function for postive review\n",
    "get_hf_polarity(disney[\"clean_text\"].loc[0])"
   ]
  },
  {
   "cell_type": "code",
   "execution_count": 36,
   "id": "4185f9cf-9c4b-4258-a321-1613b3db8b57",
   "metadata": {},
   "outputs": [
    {
     "data": {
      "text/plain": [
       "-0.999247"
      ]
     },
     "execution_count": 36,
     "metadata": {},
     "output_type": "execute_result"
    }
   ],
   "source": [
    "# test function for negative review\n",
    "get_hf_polarity(disney[\"clean_text\"].loc[236])"
   ]
  },
  {
   "cell_type": "code",
   "execution_count": 38,
   "id": "1e168de0-ba76-4454-b68f-7a8685f7f26c",
   "metadata": {
    "tags": []
   },
   "outputs": [
    {
     "name": "stderr",
     "output_type": "stream",
     "text": [
      "No model was supplied, defaulted to gpt2 (https://huggingface.co/gpt2)\n",
      "All model checkpoint layers were used when initializing TFGPT2LMHeadModel.\n",
      "\n",
      "All the layers of TFGPT2LMHeadModel were initialized from the model checkpoint at gpt2.\n",
      "If your task is similar to the task the model of the checkpoint was trained on, you can already use TFGPT2LMHeadModel for predictions without further training.\n"
     ]
    }
   ],
   "source": [
    "gen = pipeline(\"text-generation\")"
   ]
  },
  {
   "cell_type": "code",
   "execution_count": 39,
   "id": "cd1656fe-52cf-4f98-adae-5028828a6574",
   "metadata": {},
   "outputs": [
    {
     "name": "stderr",
     "output_type": "stream",
     "text": [
      "Setting `pad_token_id` to 50256 (first `eos_token_id`) to generate sequence\n"
     ]
    },
    {
     "data": {
      "text/plain": [
       "[{'generated_text': \"If you've ever been to Disneyland anywhere you'll find Disneyland Hong Kong very similar in the layout when you walk into main street! It has a very familiar feel. One of the rides  its a Small World  is absolutely fabulous and worth doing. The day we visited was fairly hot and relatively busy but the queues moved fairly well.  It's a good place for a short stay to see an attraction (you can do there as long as you don't eat and drink.  Some of the\"}]"
      ]
     },
     "execution_count": 39,
     "metadata": {},
     "output_type": "execute_result"
    }
   ],
   "source": [
    "gen(disney[\"Review_Text\"].loc[0], max_length = 100)"
   ]
  },
  {
   "cell_type": "code",
   "execution_count": 40,
   "id": "09ed375c-130b-40bd-a5ec-e9bfa2d1d266",
   "metadata": {},
   "outputs": [
    {
     "data": {
      "text/plain": [
       "\"If you've ever been to Disneyland anywhere you'll find Disneyland Hong Kong very similar in the layout when you walk into main street! It has a very familiar feel. One of the rides  its a Small World  is absolutely fabulous and worth doing. The day we visited was fairly hot and relatively busy but the queues moved fairly well. \""
      ]
     },
     "execution_count": 40,
     "metadata": {},
     "output_type": "execute_result"
    }
   ],
   "source": [
    "disney[\"Review_Text\"].loc[0]"
   ]
  },
  {
   "cell_type": "markdown",
   "id": "53233f47-b92a-4a5c-a892-c5b27da6449a",
   "metadata": {},
   "source": [
    "**Spacy Library**"
   ]
  },
  {
   "cell_type": "code",
   "execution_count": null,
   "id": "17b92249-1357-4dcd-a048-4183ca5eccd6",
   "metadata": {},
   "outputs": [],
   "source": [
    "# citation: https://pypi.org/project/spacytextblob/\n",
    "nlp = spacy.load('en_core_web_sm')\n",
    "nlp.add_pipe(\"spacytextblob\")"
   ]
  },
  {
   "cell_type": "code",
   "execution_count": null,
   "id": "a0a88a9a-f47d-4fb9-9314-a0cc1e158bd3",
   "metadata": {},
   "outputs": [],
   "source": [
    "doc = nlp(disney[\"Review_Text\"].loc[2])\n",
    "print('Assessments:', doc._.assessments)"
   ]
  },
  {
   "cell_type": "markdown",
   "id": "bcd1d72f-b968-4a97-9dd3-11e327afe251",
   "metadata": {},
   "source": [
    "### 5. Replacing Park Names with Numbers"
   ]
  },
  {
   "cell_type": "code",
   "execution_count": 41,
   "id": "1f063ca8-c0a7-4b05-8135-75efae313cc0",
   "metadata": {},
   "outputs": [],
   "source": [
    "park_map = {\"Disneyland_California\": 1, \"Disneyland_Paris\": 2, \"Disneyland_HongKong\":3}"
   ]
  },
  {
   "cell_type": "code",
   "execution_count": 42,
   "id": "57fc3fc7-4332-4fc1-b32c-cf029c875550",
   "metadata": {},
   "outputs": [],
   "source": [
    "# create target column\n",
    "disney[\"park\"] = disney[\"Branch\"].replace(park_map)"
   ]
  },
  {
   "cell_type": "markdown",
   "id": "31d8e4ca-2fe9-43cf-bd32-d362bffea20a",
   "metadata": {},
   "source": [
    "### 6. Save Cleaned Dataset"
   ]
  },
  {
   "cell_type": "code",
   "execution_count": 43,
   "id": "276b4855-fc5f-4c98-81b9-f7bcb27d98d9",
   "metadata": {},
   "outputs": [],
   "source": [
    "clean_disney = disney[[\"Branch\", \"park\", \"Review_Text\", \"clean_text\", \"Reviewer_Location\", \"Year_Month\", \"year\", \"month\", \"text_word_count\", \"subjectivity\", \"tb_polarity\", \"vs_polarity\", \"Rating\"]]"
   ]
  },
  {
   "cell_type": "code",
   "execution_count": 44,
   "id": "d2b7639f-63d6-4118-ab03-8db73b528547",
   "metadata": {},
   "outputs": [
    {
     "data": {
      "text/html": [
       "<div>\n",
       "<style scoped>\n",
       "    .dataframe tbody tr th:only-of-type {\n",
       "        vertical-align: middle;\n",
       "    }\n",
       "\n",
       "    .dataframe tbody tr th {\n",
       "        vertical-align: top;\n",
       "    }\n",
       "\n",
       "    .dataframe thead th {\n",
       "        text-align: right;\n",
       "    }\n",
       "</style>\n",
       "<table border=\"1\" class=\"dataframe\">\n",
       "  <thead>\n",
       "    <tr style=\"text-align: right;\">\n",
       "      <th></th>\n",
       "      <th>Branch</th>\n",
       "      <th>park</th>\n",
       "      <th>Review_Text</th>\n",
       "      <th>clean_text</th>\n",
       "      <th>Reviewer_Location</th>\n",
       "      <th>Year_Month</th>\n",
       "      <th>year</th>\n",
       "      <th>month</th>\n",
       "      <th>text_word_count</th>\n",
       "      <th>subjectivity</th>\n",
       "      <th>tb_polarity</th>\n",
       "      <th>vs_polarity</th>\n",
       "      <th>Rating</th>\n",
       "    </tr>\n",
       "  </thead>\n",
       "  <tbody>\n",
       "    <tr>\n",
       "      <th>0</th>\n",
       "      <td>Disneyland_HongKong</td>\n",
       "      <td>3</td>\n",
       "      <td>If you've ever been to Disneyland anywhere you...</td>\n",
       "      <td>if you've ever been to disneyland anywhere you...</td>\n",
       "      <td>Australia</td>\n",
       "      <td>2019-4</td>\n",
       "      <td>2019</td>\n",
       "      <td>4</td>\n",
       "      <td>59</td>\n",
       "      <td>0.561481</td>\n",
       "      <td>0.239352</td>\n",
       "      <td>0.6786</td>\n",
       "      <td>4</td>\n",
       "    </tr>\n",
       "    <tr>\n",
       "      <th>1</th>\n",
       "      <td>Disneyland_HongKong</td>\n",
       "      <td>3</td>\n",
       "      <td>Its been a while since d last time we visit HK...</td>\n",
       "      <td>its been a while since d last time we visit hk...</td>\n",
       "      <td>Philippines</td>\n",
       "      <td>2019-5</td>\n",
       "      <td>2019</td>\n",
       "      <td>5</td>\n",
       "      <td>171</td>\n",
       "      <td>0.459783</td>\n",
       "      <td>0.205797</td>\n",
       "      <td>0.9879</td>\n",
       "      <td>4</td>\n",
       "    </tr>\n",
       "    <tr>\n",
       "      <th>2</th>\n",
       "      <td>Disneyland_HongKong</td>\n",
       "      <td>3</td>\n",
       "      <td>Thanks God it wasn   t too hot or too humid wh...</td>\n",
       "      <td>thanks god it wasn t too hot or too humid when...</td>\n",
       "      <td>United Arab Emirates</td>\n",
       "      <td>2019-4</td>\n",
       "      <td>2019</td>\n",
       "      <td>4</td>\n",
       "      <td>169</td>\n",
       "      <td>0.434857</td>\n",
       "      <td>0.119238</td>\n",
       "      <td>0.9945</td>\n",
       "      <td>4</td>\n",
       "    </tr>\n",
       "    <tr>\n",
       "      <th>3</th>\n",
       "      <td>Disneyland_HongKong</td>\n",
       "      <td>3</td>\n",
       "      <td>HK Disneyland is a great compact park. Unfortu...</td>\n",
       "      <td>hk disneyland is a great compact park unfortun...</td>\n",
       "      <td>Australia</td>\n",
       "      <td>2019-4</td>\n",
       "      <td>2019</td>\n",
       "      <td>4</td>\n",
       "      <td>91</td>\n",
       "      <td>0.512143</td>\n",
       "      <td>0.189286</td>\n",
       "      <td>0.8489</td>\n",
       "      <td>4</td>\n",
       "    </tr>\n",
       "    <tr>\n",
       "      <th>4</th>\n",
       "      <td>Disneyland_HongKong</td>\n",
       "      <td>3</td>\n",
       "      <td>the location is not in the city, took around 1...</td>\n",
       "      <td>the location is not in the city took around 1 ...</td>\n",
       "      <td>United Kingdom</td>\n",
       "      <td>2019-4</td>\n",
       "      <td>2019</td>\n",
       "      <td>4</td>\n",
       "      <td>31</td>\n",
       "      <td>0.437500</td>\n",
       "      <td>0.266667</td>\n",
       "      <td>0.2846</td>\n",
       "      <td>4</td>\n",
       "    </tr>\n",
       "    <tr>\n",
       "      <th>...</th>\n",
       "      <td>...</td>\n",
       "      <td>...</td>\n",
       "      <td>...</td>\n",
       "      <td>...</td>\n",
       "      <td>...</td>\n",
       "      <td>...</td>\n",
       "      <td>...</td>\n",
       "      <td>...</td>\n",
       "      <td>...</td>\n",
       "      <td>...</td>\n",
       "      <td>...</td>\n",
       "      <td>...</td>\n",
       "      <td>...</td>\n",
       "    </tr>\n",
       "    <tr>\n",
       "      <th>42651</th>\n",
       "      <td>Disneyland_Paris</td>\n",
       "      <td>2</td>\n",
       "      <td>i went to disneyland paris in july 03 and thou...</td>\n",
       "      <td>i went to disneyland paris in july 03 and thou...</td>\n",
       "      <td>United Kingdom</td>\n",
       "      <td>missing</td>\n",
       "      <td>miss</td>\n",
       "      <td>ng</td>\n",
       "      <td>173</td>\n",
       "      <td>0.570682</td>\n",
       "      <td>0.225000</td>\n",
       "      <td>0.9884</td>\n",
       "      <td>5</td>\n",
       "    </tr>\n",
       "    <tr>\n",
       "      <th>42652</th>\n",
       "      <td>Disneyland_Paris</td>\n",
       "      <td>2</td>\n",
       "      <td>2 adults and 1 child of 11 visited Disneyland ...</td>\n",
       "      <td>2 adults and 1 child of 11 visited disneyland ...</td>\n",
       "      <td>Canada</td>\n",
       "      <td>missing</td>\n",
       "      <td>miss</td>\n",
       "      <td>ng</td>\n",
       "      <td>191</td>\n",
       "      <td>0.637045</td>\n",
       "      <td>0.194773</td>\n",
       "      <td>0.9915</td>\n",
       "      <td>5</td>\n",
       "    </tr>\n",
       "    <tr>\n",
       "      <th>42653</th>\n",
       "      <td>Disneyland_Paris</td>\n",
       "      <td>2</td>\n",
       "      <td>My eleven year old daughter and myself went to...</td>\n",
       "      <td>my eleven year old daughter and myself went to...</td>\n",
       "      <td>South Africa</td>\n",
       "      <td>missing</td>\n",
       "      <td>miss</td>\n",
       "      <td>ng</td>\n",
       "      <td>109</td>\n",
       "      <td>0.479670</td>\n",
       "      <td>0.231319</td>\n",
       "      <td>0.8979</td>\n",
       "      <td>5</td>\n",
       "    </tr>\n",
       "    <tr>\n",
       "      <th>42654</th>\n",
       "      <td>Disneyland_Paris</td>\n",
       "      <td>2</td>\n",
       "      <td>This hotel, part of the Disneyland Paris compl...</td>\n",
       "      <td>this hotel part of the disneyland paris comple...</td>\n",
       "      <td>United States</td>\n",
       "      <td>missing</td>\n",
       "      <td>miss</td>\n",
       "      <td>ng</td>\n",
       "      <td>112</td>\n",
       "      <td>0.559821</td>\n",
       "      <td>0.255952</td>\n",
       "      <td>0.9517</td>\n",
       "      <td>4</td>\n",
       "    </tr>\n",
       "    <tr>\n",
       "      <th>42655</th>\n",
       "      <td>Disneyland_Paris</td>\n",
       "      <td>2</td>\n",
       "      <td>I went to the Disneyparis resort, in 1996, wit...</td>\n",
       "      <td>i went to the disneyparis resort in 1996 with ...</td>\n",
       "      <td>United Kingdom</td>\n",
       "      <td>missing</td>\n",
       "      <td>miss</td>\n",
       "      <td>ng</td>\n",
       "      <td>179</td>\n",
       "      <td>0.515238</td>\n",
       "      <td>0.254881</td>\n",
       "      <td>0.9797</td>\n",
       "      <td>4</td>\n",
       "    </tr>\n",
       "  </tbody>\n",
       "</table>\n",
       "<p>42656 rows × 13 columns</p>\n",
       "</div>"
      ],
      "text/plain": [
       "                    Branch  park  \\\n",
       "0      Disneyland_HongKong     3   \n",
       "1      Disneyland_HongKong     3   \n",
       "2      Disneyland_HongKong     3   \n",
       "3      Disneyland_HongKong     3   \n",
       "4      Disneyland_HongKong     3   \n",
       "...                    ...   ...   \n",
       "42651     Disneyland_Paris     2   \n",
       "42652     Disneyland_Paris     2   \n",
       "42653     Disneyland_Paris     2   \n",
       "42654     Disneyland_Paris     2   \n",
       "42655     Disneyland_Paris     2   \n",
       "\n",
       "                                             Review_Text  \\\n",
       "0      If you've ever been to Disneyland anywhere you...   \n",
       "1      Its been a while since d last time we visit HK...   \n",
       "2      Thanks God it wasn   t too hot or too humid wh...   \n",
       "3      HK Disneyland is a great compact park. Unfortu...   \n",
       "4      the location is not in the city, took around 1...   \n",
       "...                                                  ...   \n",
       "42651  i went to disneyland paris in july 03 and thou...   \n",
       "42652  2 adults and 1 child of 11 visited Disneyland ...   \n",
       "42653  My eleven year old daughter and myself went to...   \n",
       "42654  This hotel, part of the Disneyland Paris compl...   \n",
       "42655  I went to the Disneyparis resort, in 1996, wit...   \n",
       "\n",
       "                                              clean_text  \\\n",
       "0      if you've ever been to disneyland anywhere you...   \n",
       "1      its been a while since d last time we visit hk...   \n",
       "2      thanks god it wasn t too hot or too humid when...   \n",
       "3      hk disneyland is a great compact park unfortun...   \n",
       "4      the location is not in the city took around 1 ...   \n",
       "...                                                  ...   \n",
       "42651  i went to disneyland paris in july 03 and thou...   \n",
       "42652  2 adults and 1 child of 11 visited disneyland ...   \n",
       "42653  my eleven year old daughter and myself went to...   \n",
       "42654  this hotel part of the disneyland paris comple...   \n",
       "42655  i went to the disneyparis resort in 1996 with ...   \n",
       "\n",
       "          Reviewer_Location Year_Month  year month  text_word_count  \\\n",
       "0                 Australia     2019-4  2019     4               59   \n",
       "1               Philippines     2019-5  2019     5              171   \n",
       "2      United Arab Emirates     2019-4  2019     4              169   \n",
       "3                 Australia     2019-4  2019     4               91   \n",
       "4            United Kingdom     2019-4  2019     4               31   \n",
       "...                     ...        ...   ...   ...              ...   \n",
       "42651        United Kingdom    missing  miss    ng              173   \n",
       "42652                Canada    missing  miss    ng              191   \n",
       "42653          South Africa    missing  miss    ng              109   \n",
       "42654         United States    missing  miss    ng              112   \n",
       "42655        United Kingdom    missing  miss    ng              179   \n",
       "\n",
       "       subjectivity  tb_polarity  vs_polarity  Rating  \n",
       "0          0.561481     0.239352       0.6786       4  \n",
       "1          0.459783     0.205797       0.9879       4  \n",
       "2          0.434857     0.119238       0.9945       4  \n",
       "3          0.512143     0.189286       0.8489       4  \n",
       "4          0.437500     0.266667       0.2846       4  \n",
       "...             ...          ...          ...     ...  \n",
       "42651      0.570682     0.225000       0.9884       5  \n",
       "42652      0.637045     0.194773       0.9915       5  \n",
       "42653      0.479670     0.231319       0.8979       5  \n",
       "42654      0.559821     0.255952       0.9517       4  \n",
       "42655      0.515238     0.254881       0.9797       4  \n",
       "\n",
       "[42656 rows x 13 columns]"
      ]
     },
     "execution_count": 44,
     "metadata": {},
     "output_type": "execute_result"
    }
   ],
   "source": [
    "clean_disney"
   ]
  },
  {
   "cell_type": "code",
   "execution_count": 45,
   "id": "4d858bb7-0106-4200-86f8-21dec1b50e56",
   "metadata": {},
   "outputs": [],
   "source": [
    "clean_disney.to_csv('../data/Clean_DisneylandReviews.csv', index=False)"
   ]
  },
  {
   "cell_type": "code",
   "execution_count": null,
   "id": "dcff1e88-72a0-4619-adae-6bc7a27fa2be",
   "metadata": {},
   "outputs": [],
   "source": []
  }
 ],
 "metadata": {
  "kernelspec": {
   "display_name": "Python 3 (ipykernel)",
   "language": "python",
   "name": "python3"
  },
  "language_info": {
   "codemirror_mode": {
    "name": "ipython",
    "version": 3
   },
   "file_extension": ".py",
   "mimetype": "text/x-python",
   "name": "python",
   "nbconvert_exporter": "python",
   "pygments_lexer": "ipython3",
   "version": "3.9.7"
  }
 },
 "nbformat": 4,
 "nbformat_minor": 5
}
