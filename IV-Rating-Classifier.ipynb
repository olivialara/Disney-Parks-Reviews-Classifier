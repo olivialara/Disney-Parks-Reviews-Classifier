{
 "cells": [
  {
   "cell_type": "markdown",
   "id": "690879a7-05ee-4258-a38e-7a298852a9bd",
   "metadata": {},
   "source": [
    "# Project 5: Disneyland Park and Rating Classifier\n",
    "## Part IV: Rating Classifier Model"
   ]
  },
  {
   "cell_type": "markdown",
   "id": "9f50daf7-0051-4f88-840a-a3132cedf725",
   "metadata": {},
   "source": [
    "### 1. Imports"
   ]
  },
  {
   "cell_type": "code",
   "execution_count": 49,
   "id": "0f850724-169b-4a0c-8aa9-7a49fb40cfaf",
   "metadata": {},
   "outputs": [],
   "source": [
    "import os\n",
    "import sys\n",
    "\n",
    "# essentials:\n",
    "import pandas as pd\n",
    "import numpy as np\n",
    "import matplotlib.pyplot as plt\n",
    "import seaborn as sns \n",
    "import sklearn\n",
    "\n",
    "\n",
    "# plotly:\n",
    "import plotly\n",
    "import plotly.express as px\n",
    "from plotly.subplots import make_subplots\n",
    "import plotly.graph_objects as go\n",
    "\n",
    "# scikit-learn:\n",
    "from sklearn.feature_extraction.text import CountVectorizer, TfidfVectorizer\n",
    "from sklearn.feature_selection import RFE\n",
    "from sklearn.model_selection import train_test_split, GridSearchCV, cross_val_score\n",
    "from sklearn.linear_model import LinearRegression, Ridge, Lasso, LogisticRegression, ElasticNet\n",
    "from sklearn.metrics import mean_squared_error, mean_absolute_error, r2_score, f1_score, balanced_accuracy_score, accuracy_score, RocCurveDisplay, roc_auc_score, recall_score, precision_score, confusion_matrix\n",
    "from sklearn.compose import make_column_transformer, make_column_selector\n",
    "from sklearn.neighbors import NearestNeighbors, KNeighborsClassifier, KNeighborsRegressor\n",
    "from sklearn.pipeline import make_pipeline\n",
    "from sklearn.impute import KNNImputer, SimpleImputer\n",
    "from sklearn.preprocessing import StandardScaler, OneHotEncoder, PolynomialFeatures\n",
    "from sklearn.metrics import precision_score, recall_score, accuracy_score, ConfusionMatrixDisplay, roc_auc_score\n",
    "from sklearn.tree import DecisionTreeRegressor, DecisionTreeClassifier, plot_tree\n",
    "from sklearn.ensemble import VotingRegressor, BaggingClassifier, BaggingRegressor, RandomForestClassifier, RandomForestRegressor, ExtraTreesClassifier\n",
    "from sklearn.ensemble import AdaBoostRegressor, AdaBoostClassifier, GradientBoostingRegressor, GradientBoostingClassifier, HistGradientBoostingClassifier, HistGradientBoostingRegressor \n",
    "from sklearn.dummy import DummyClassifier\n",
    "from sklearn.naive_bayes import MultinomialNB\n",
    "from sklearn.inspection import plot_partial_dependence\n",
    "from sklearn.feature_extraction import text \n",
    "from sklearn.svm import SVC\n",
    "\n",
    "# NN & NLP scikit-learn:\n",
    "from sklearn.neural_network import MLPClassifier\n",
    "from sklearn.linear_model import Perceptron\n",
    "from sklearn.datasets import make_blobs\n",
    "from sklearn.datasets import fetch_openml, make_classification, make_regression\n",
    "from sklearn import set_config\n",
    "from sklearn.base import BaseEstimator, TransformerMixin\n",
    "\n",
    "# unsupervised learning scikit-learn:\n",
    "from sklearn.cluster import KMeans\n",
    "from sklearn.metrics import silhouette_score\n",
    "from sklearn.cluster import DBSCAN\n",
    "from sklearn.cluster import AgglomerativeClustering\n",
    "from sklearn.decomposition import PCA\n",
    "from sklearn.metrics.pairwise import pairwise_distances, cosine_distances, cosine_similarity\n",
    "\n",
    "# imblearn:\n",
    "from imblearn.pipeline import make_pipeline\n",
    "from imblearn.over_sampling import RandomOverSampler, SMOTE, ADASYN, SMOTENC\n",
    "\n",
    "# API & Webscraping:\n",
    "import time\n",
    "import requests\n",
    "import datetime\n",
    "from bs4 import BeautifulSoup\n",
    "\n",
    "# nltk:\n",
    "import nltk\n",
    "from nltk.tokenize import sent_tokenize, word_tokenize, RegexpTokenizer\n",
    "from nltk.stem import WordNetLemmatizer, PorterStemmer\n",
    "from nltk.corpus import stopwords\n",
    "from nltk.chunk.regexp import RegexpParser\n",
    "from nltk.chunk import tree2conlltags\n",
    "from nltk import word_tokenize\n",
    "from nltk.corpus import PlaintextCorpusReader\n",
    "\n",
    "# tensorflow/keras:\n",
    "import tensorflow as tf\n",
    "import tensorboard\n",
    "from tensorflow.keras.layers import Dense, Flatten, Conv2D, MaxPool2D\n",
    "from tensorflow.keras.models import Sequential\n",
    "from tensorflow.keras.wrappers.scikit_learn import KerasClassifier, KerasRegressor\n",
    "from tensorflow.keras.datasets import mnist\n",
    "from tensorflow.keras.utils import to_categorical\n",
    "from keras.preprocessing.text import Tokenizer\n",
    "from keras.layers import SimpleRNN, LSTM, GRU, Dense\n",
    "from keras.preprocessing.sequence import pad_sequences\n",
    "from keras.layers import Embedding\n",
    "from keras.layers import Bidirectional\n",
    "from keras.preprocessing.sequence import TimeseriesGenerator\n",
    "from keras.layers import Conv1D, MaxPooling1D, GlobalMaxPooling1D\n",
    "from tensorflow.keras.callbacks import EarlyStopping\n",
    "\n",
    "# time series/sktime:\n",
    "import sktime\n",
    "import statsmodels\n",
    "import pmdarima as pmd\n",
    "import pandas_datareader as pdr\n",
    "from keras.preprocessing.sequence import TimeseriesGenerator\n",
    "from sktime.forecasting.compose import EnsembleForecaster\n",
    "from sktime.forecasting.model_selection import temporal_train_test_split\n",
    "from sktime.forecasting.naive import NaiveForecaster\n",
    "from sktime.forecasting.arima import AutoARIMA\n",
    "from sktime.forecasting.ets import AutoETS\n",
    "from sktime.utils.plotting import plot_series\n",
    "\n",
    "\n",
    "# spacy: \n",
    "import spacy\n",
    "from spacy.matcher import Matcher\n",
    "from spacy import displacy\n",
    "\n",
    "# statsmodels:\n",
    "import statsmodels.api as sm\n",
    "from statsmodels.graphics.tsaplots import plot_acf, plot_pacf\n",
    "from statsmodels.tsa.stattools import acf, pacf\n",
    "\n",
    "# emojis:\n",
    "import emoji\n",
    "import demoji\n",
    "\n",
    "# others:\n",
    "import scipy.stats as stats\n",
    "import missingno as msno\n",
    "from itertools import groupby\n",
    "from IPython.display import display"
   ]
  },
  {
   "cell_type": "markdown",
   "id": "71527c39-bc75-46a9-a31f-2cfe08b9c688",
   "metadata": {},
   "source": [
    "### 2. Read in & Inspect Data"
   ]
  },
  {
   "cell_type": "code",
   "execution_count": 2,
   "id": "289397a9-c020-47b2-9b40-7fd8474a2b8c",
   "metadata": {},
   "outputs": [],
   "source": [
    "disney = pd.read_csv('../data/Clean_DisneylandReviews.csv')"
   ]
  },
  {
   "cell_type": "code",
   "execution_count": 3,
   "id": "f0e3d537-4dcd-4124-96fd-3af26e18d5aa",
   "metadata": {},
   "outputs": [
    {
     "data": {
      "text/html": [
       "<div>\n",
       "<style scoped>\n",
       "    .dataframe tbody tr th:only-of-type {\n",
       "        vertical-align: middle;\n",
       "    }\n",
       "\n",
       "    .dataframe tbody tr th {\n",
       "        vertical-align: top;\n",
       "    }\n",
       "\n",
       "    .dataframe thead th {\n",
       "        text-align: right;\n",
       "    }\n",
       "</style>\n",
       "<table border=\"1\" class=\"dataframe\">\n",
       "  <thead>\n",
       "    <tr style=\"text-align: right;\">\n",
       "      <th></th>\n",
       "      <th>Branch</th>\n",
       "      <th>park</th>\n",
       "      <th>Review_Text</th>\n",
       "      <th>clean_text</th>\n",
       "      <th>Reviewer_Location</th>\n",
       "      <th>Year_Month</th>\n",
       "      <th>year</th>\n",
       "      <th>month</th>\n",
       "      <th>text_word_count</th>\n",
       "      <th>subjectivity</th>\n",
       "      <th>tb_polarity</th>\n",
       "      <th>vs_polarity</th>\n",
       "      <th>Rating</th>\n",
       "    </tr>\n",
       "  </thead>\n",
       "  <tbody>\n",
       "    <tr>\n",
       "      <th>0</th>\n",
       "      <td>Disneyland_HongKong</td>\n",
       "      <td>3</td>\n",
       "      <td>If you've ever been to Disneyland anywhere you...</td>\n",
       "      <td>if you've ever been to disneyland anywhere you...</td>\n",
       "      <td>Australia</td>\n",
       "      <td>2019-4</td>\n",
       "      <td>2019</td>\n",
       "      <td>4</td>\n",
       "      <td>59</td>\n",
       "      <td>0.561481</td>\n",
       "      <td>0.239352</td>\n",
       "      <td>0.6786</td>\n",
       "      <td>4</td>\n",
       "    </tr>\n",
       "    <tr>\n",
       "      <th>1</th>\n",
       "      <td>Disneyland_HongKong</td>\n",
       "      <td>3</td>\n",
       "      <td>Its been a while since d last time we visit HK...</td>\n",
       "      <td>its been a while since d last time we visit hk...</td>\n",
       "      <td>Philippines</td>\n",
       "      <td>2019-5</td>\n",
       "      <td>2019</td>\n",
       "      <td>5</td>\n",
       "      <td>171</td>\n",
       "      <td>0.459783</td>\n",
       "      <td>0.205797</td>\n",
       "      <td>0.9879</td>\n",
       "      <td>4</td>\n",
       "    </tr>\n",
       "    <tr>\n",
       "      <th>2</th>\n",
       "      <td>Disneyland_HongKong</td>\n",
       "      <td>3</td>\n",
       "      <td>Thanks God it wasn   t too hot or too humid wh...</td>\n",
       "      <td>thanks god it wasn t too hot or too humid when...</td>\n",
       "      <td>United Arab Emirates</td>\n",
       "      <td>2019-4</td>\n",
       "      <td>2019</td>\n",
       "      <td>4</td>\n",
       "      <td>169</td>\n",
       "      <td>0.434857</td>\n",
       "      <td>0.119238</td>\n",
       "      <td>0.9945</td>\n",
       "      <td>4</td>\n",
       "    </tr>\n",
       "    <tr>\n",
       "      <th>3</th>\n",
       "      <td>Disneyland_HongKong</td>\n",
       "      <td>3</td>\n",
       "      <td>HK Disneyland is a great compact park. Unfortu...</td>\n",
       "      <td>hk disneyland is a great compact park unfortun...</td>\n",
       "      <td>Australia</td>\n",
       "      <td>2019-4</td>\n",
       "      <td>2019</td>\n",
       "      <td>4</td>\n",
       "      <td>91</td>\n",
       "      <td>0.512143</td>\n",
       "      <td>0.189286</td>\n",
       "      <td>0.8489</td>\n",
       "      <td>4</td>\n",
       "    </tr>\n",
       "    <tr>\n",
       "      <th>4</th>\n",
       "      <td>Disneyland_HongKong</td>\n",
       "      <td>3</td>\n",
       "      <td>the location is not in the city, took around 1...</td>\n",
       "      <td>the location is not in the city took around 1 ...</td>\n",
       "      <td>United Kingdom</td>\n",
       "      <td>2019-4</td>\n",
       "      <td>2019</td>\n",
       "      <td>4</td>\n",
       "      <td>31</td>\n",
       "      <td>0.437500</td>\n",
       "      <td>0.266667</td>\n",
       "      <td>0.2846</td>\n",
       "      <td>4</td>\n",
       "    </tr>\n",
       "  </tbody>\n",
       "</table>\n",
       "</div>"
      ],
      "text/plain": [
       "                Branch  park  \\\n",
       "0  Disneyland_HongKong     3   \n",
       "1  Disneyland_HongKong     3   \n",
       "2  Disneyland_HongKong     3   \n",
       "3  Disneyland_HongKong     3   \n",
       "4  Disneyland_HongKong     3   \n",
       "\n",
       "                                         Review_Text  \\\n",
       "0  If you've ever been to Disneyland anywhere you...   \n",
       "1  Its been a while since d last time we visit HK...   \n",
       "2  Thanks God it wasn   t too hot or too humid wh...   \n",
       "3  HK Disneyland is a great compact park. Unfortu...   \n",
       "4  the location is not in the city, took around 1...   \n",
       "\n",
       "                                          clean_text     Reviewer_Location  \\\n",
       "0  if you've ever been to disneyland anywhere you...             Australia   \n",
       "1  its been a while since d last time we visit hk...           Philippines   \n",
       "2  thanks god it wasn t too hot or too humid when...  United Arab Emirates   \n",
       "3  hk disneyland is a great compact park unfortun...             Australia   \n",
       "4  the location is not in the city took around 1 ...        United Kingdom   \n",
       "\n",
       "  Year_Month  year month  text_word_count  subjectivity  tb_polarity  \\\n",
       "0     2019-4  2019     4               59      0.561481     0.239352   \n",
       "1     2019-5  2019     5              171      0.459783     0.205797   \n",
       "2     2019-4  2019     4              169      0.434857     0.119238   \n",
       "3     2019-4  2019     4               91      0.512143     0.189286   \n",
       "4     2019-4  2019     4               31      0.437500     0.266667   \n",
       "\n",
       "   vs_polarity  Rating  \n",
       "0       0.6786       4  \n",
       "1       0.9879       4  \n",
       "2       0.9945       4  \n",
       "3       0.8489       4  \n",
       "4       0.2846       4  "
      ]
     },
     "execution_count": 3,
     "metadata": {},
     "output_type": "execute_result"
    }
   ],
   "source": [
    "disney.head()"
   ]
  },
  {
   "cell_type": "code",
   "execution_count": 4,
   "id": "231c1f3f-b62d-47e1-8bfb-1b1aa41df63a",
   "metadata": {},
   "outputs": [
    {
     "name": "stdout",
     "output_type": "stream",
     "text": [
      "<class 'pandas.core.frame.DataFrame'>\n",
      "RangeIndex: 42656 entries, 0 to 42655\n",
      "Data columns (total 13 columns):\n",
      " #   Column             Non-Null Count  Dtype  \n",
      "---  ------             --------------  -----  \n",
      " 0   Branch             42656 non-null  object \n",
      " 1   park               42656 non-null  int64  \n",
      " 2   Review_Text        42656 non-null  object \n",
      " 3   clean_text         42656 non-null  object \n",
      " 4   Reviewer_Location  42656 non-null  object \n",
      " 5   Year_Month         42656 non-null  object \n",
      " 6   year               42656 non-null  object \n",
      " 7   month              42656 non-null  object \n",
      " 8   text_word_count    42656 non-null  int64  \n",
      " 9   subjectivity       42656 non-null  float64\n",
      " 10  tb_polarity        42656 non-null  float64\n",
      " 11  vs_polarity        42656 non-null  float64\n",
      " 12  Rating             42656 non-null  int64  \n",
      "dtypes: float64(3), int64(3), object(7)\n",
      "memory usage: 4.2+ MB\n"
     ]
    }
   ],
   "source": [
    "disney.info()"
   ]
  },
  {
   "cell_type": "code",
   "execution_count": 5,
   "id": "995fd8f2-bb05-4d9f-8120-2d5474eac5aa",
   "metadata": {},
   "outputs": [
    {
     "data": {
      "text/html": [
       "<div>\n",
       "<style scoped>\n",
       "    .dataframe tbody tr th:only-of-type {\n",
       "        vertical-align: middle;\n",
       "    }\n",
       "\n",
       "    .dataframe tbody tr th {\n",
       "        vertical-align: top;\n",
       "    }\n",
       "\n",
       "    .dataframe thead th {\n",
       "        text-align: right;\n",
       "    }\n",
       "</style>\n",
       "<table border=\"1\" class=\"dataframe\">\n",
       "  <thead>\n",
       "    <tr style=\"text-align: right;\">\n",
       "      <th></th>\n",
       "      <th>park</th>\n",
       "      <th>text_word_count</th>\n",
       "      <th>subjectivity</th>\n",
       "      <th>tb_polarity</th>\n",
       "      <th>vs_polarity</th>\n",
       "      <th>Rating</th>\n",
       "    </tr>\n",
       "  </thead>\n",
       "  <tbody>\n",
       "    <tr>\n",
       "      <th>count</th>\n",
       "      <td>42656.000000</td>\n",
       "      <td>42656.000000</td>\n",
       "      <td>42656.000000</td>\n",
       "      <td>42656.000000</td>\n",
       "      <td>42656.000000</td>\n",
       "      <td>42656.000000</td>\n",
       "    </tr>\n",
       "    <tr>\n",
       "      <th>mean</th>\n",
       "      <td>1.770583</td>\n",
       "      <td>129.703817</td>\n",
       "      <td>0.524574</td>\n",
       "      <td>0.212199</td>\n",
       "      <td>0.680870</td>\n",
       "      <td>4.217695</td>\n",
       "    </tr>\n",
       "    <tr>\n",
       "      <th>std</th>\n",
       "      <td>0.792370</td>\n",
       "      <td>154.713032</td>\n",
       "      <td>0.124134</td>\n",
       "      <td>0.175264</td>\n",
       "      <td>0.477683</td>\n",
       "      <td>1.063371</td>\n",
       "    </tr>\n",
       "    <tr>\n",
       "      <th>min</th>\n",
       "      <td>1.000000</td>\n",
       "      <td>3.000000</td>\n",
       "      <td>0.000000</td>\n",
       "      <td>-1.000000</td>\n",
       "      <td>-0.997700</td>\n",
       "      <td>1.000000</td>\n",
       "    </tr>\n",
       "    <tr>\n",
       "      <th>25%</th>\n",
       "      <td>1.000000</td>\n",
       "      <td>45.000000</td>\n",
       "      <td>0.450786</td>\n",
       "      <td>0.105354</td>\n",
       "      <td>0.640925</td>\n",
       "      <td>4.000000</td>\n",
       "    </tr>\n",
       "    <tr>\n",
       "      <th>50%</th>\n",
       "      <td>2.000000</td>\n",
       "      <td>81.000000</td>\n",
       "      <td>0.519638</td>\n",
       "      <td>0.203333</td>\n",
       "      <td>0.895700</td>\n",
       "      <td>5.000000</td>\n",
       "    </tr>\n",
       "    <tr>\n",
       "      <th>75%</th>\n",
       "      <td>2.000000</td>\n",
       "      <td>156.000000</td>\n",
       "      <td>0.594202</td>\n",
       "      <td>0.311590</td>\n",
       "      <td>0.966100</td>\n",
       "      <td>5.000000</td>\n",
       "    </tr>\n",
       "    <tr>\n",
       "      <th>max</th>\n",
       "      <td>3.000000</td>\n",
       "      <td>3963.000000</td>\n",
       "      <td>1.000000</td>\n",
       "      <td>1.000000</td>\n",
       "      <td>0.999900</td>\n",
       "      <td>5.000000</td>\n",
       "    </tr>\n",
       "  </tbody>\n",
       "</table>\n",
       "</div>"
      ],
      "text/plain": [
       "               park  text_word_count  subjectivity   tb_polarity  \\\n",
       "count  42656.000000     42656.000000  42656.000000  42656.000000   \n",
       "mean       1.770583       129.703817      0.524574      0.212199   \n",
       "std        0.792370       154.713032      0.124134      0.175264   \n",
       "min        1.000000         3.000000      0.000000     -1.000000   \n",
       "25%        1.000000        45.000000      0.450786      0.105354   \n",
       "50%        2.000000        81.000000      0.519638      0.203333   \n",
       "75%        2.000000       156.000000      0.594202      0.311590   \n",
       "max        3.000000      3963.000000      1.000000      1.000000   \n",
       "\n",
       "        vs_polarity        Rating  \n",
       "count  42656.000000  42656.000000  \n",
       "mean       0.680870      4.217695  \n",
       "std        0.477683      1.063371  \n",
       "min       -0.997700      1.000000  \n",
       "25%        0.640925      4.000000  \n",
       "50%        0.895700      5.000000  \n",
       "75%        0.966100      5.000000  \n",
       "max        0.999900      5.000000  "
      ]
     },
     "execution_count": 5,
     "metadata": {},
     "output_type": "execute_result"
    }
   ],
   "source": [
    "disney.describe()"
   ]
  },
  {
   "cell_type": "markdown",
   "id": "2c7f8b77-aa47-48c2-bb1f-4e5f90a67de9",
   "metadata": {},
   "source": [
    "### 3. Baseline Model"
   ]
  },
  {
   "cell_type": "code",
   "execution_count": 6,
   "id": "f5454b27-a973-4af4-aed5-098639765cb7",
   "metadata": {},
   "outputs": [],
   "source": [
    "X = disney['clean_text']\n",
    "y = disney['Rating']"
   ]
  },
  {
   "cell_type": "code",
   "execution_count": 7,
   "id": "efb44d5d-f0b7-4a1c-b61b-74206c39d6b2",
   "metadata": {},
   "outputs": [],
   "source": [
    "X_train, X_test, y_train, y_test = train_test_split(X, y, random_state = 4, stratify = y)"
   ]
  },
  {
   "cell_type": "code",
   "execution_count": 76,
   "id": "0007e6ea-1d4e-4f8f-bcde-c0e4d127a92b",
   "metadata": {},
   "outputs": [
    {
     "data": {
      "text/plain": [
       "5    0.542636\n",
       "4    0.252594\n",
       "3    0.119780\n",
       "2    0.049856\n",
       "1    0.035134\n",
       "Name: Rating, dtype: float64"
      ]
     },
     "execution_count": 76,
     "metadata": {},
     "output_type": "execute_result"
    }
   ],
   "source": [
    "y_train.value_counts(normalize=True)"
   ]
  },
  {
   "cell_type": "code",
   "execution_count": 75,
   "id": "70f627d3-c4be-47fb-93fe-dbaca45f029a",
   "metadata": {},
   "outputs": [
    {
     "data": {
      "text/plain": [
       "5    0.542573\n",
       "4    0.252626\n",
       "3    0.119749\n",
       "2    0.049887\n",
       "1    0.035165\n",
       "Name: Rating, dtype: float64"
      ]
     },
     "execution_count": 75,
     "metadata": {},
     "output_type": "execute_result"
    }
   ],
   "source": [
    "y_test.value_counts(normalize=True)"
   ]
  },
  {
   "cell_type": "markdown",
   "id": "3c528b82-986b-492d-a0e0-9ae008d04493",
   "metadata": {},
   "source": [
    "The goal is to beat the baseline of .54"
   ]
  },
  {
   "cell_type": "markdown",
   "id": "d11df678-3d36-40bb-a238-c10a422ba501",
   "metadata": {},
   "source": [
    "### 4. Functions for Efficiency"
   ]
  },
  {
   "cell_type": "code",
   "execution_count": 10,
   "id": "9eede13d-8575-41fe-93f1-60a9bd86e2c9",
   "metadata": {},
   "outputs": [],
   "source": [
    "# function that lemmatizes text\n",
    "\n",
    "def split_into_lemmas(text):\n",
    "    '''return lowercased, lemmatizeed list of words as a string from a document passed in '''\n",
    "   \n",
    "    text = text.lower()\n",
    "    lemmer = WordNetLemmatizer()\n",
    "    return ' '.join([lemmer.lemmatize(word) for word in text.split() ])"
   ]
  },
  {
   "cell_type": "code",
   "execution_count": 11,
   "id": "7010e994-1a91-4418-a50a-0f61643ddb36",
   "metadata": {},
   "outputs": [],
   "source": [
    "# function that stems sentence to make it more understandable\n",
    "\n",
    "def stem_sentence(sentence): \n",
    "    \n",
    "    p_stemmer = PorterStemmer()\n",
    "    return ' '.join([p_stemmer.stem(word) for word in sentence.split(' ')])"
   ]
  },
  {
   "cell_type": "code",
   "execution_count": 12,
   "id": "5485db85-feb3-4122-bb03-213f79126143",
   "metadata": {},
   "outputs": [],
   "source": [
    "# function that does train test split, creates a pipline, and scores the given model with transformer\n",
    "# this function assumes X has one feature: clean_text\n",
    "\n",
    "def model_score(transformer, classifier, X,y):\n",
    "    # train, test, split X and y \n",
    "    X_train, X_test, y_train, y_test = train_test_split(X, y, random_state = 4, stratify = y)\n",
    "    \n",
    "    # make pipeline\n",
    "    pipe = make_pipeline(transformer, classifier)\n",
    "    pipe.fit(X_train, y_train)\n",
    "    \n",
    "    # define score\n",
    "    test_score = np.round(pipe.score(X_test, y_test), 3)\n",
    "    \n",
    "    # print model and score\n",
    "    print (f' model: {transformer, classifier}')\n",
    "    return (f' test score: {test_score}')"
   ]
  },
  {
   "cell_type": "code",
   "execution_count": 13,
   "id": "c19254e4-b9dc-4ef5-bc49-325a98a21c59",
   "metadata": {},
   "outputs": [],
   "source": [
    "# function that does train test split, creates a pipline, and scores the given model with transformer\n",
    "# this function assumes X has more than one feature\n",
    "\n",
    "def model_score_more_feats(transformer, classifier, X,y):\n",
    "    # train, test, split X and y \n",
    "    X_train, X_test, y_train, y_test = train_test_split(X, y, random_state = 4, stratify = y)\n",
    "    \n",
    "    # make transformer\n",
    "    ct = make_column_transformer((transformer, 'clean_text'), remainder='passthrough')\n",
    "    \n",
    "    # make pipeline\n",
    "    pipe = make_pipeline(ct, StandardScaler(with_mean=False), classifier)\n",
    "    pipe.fit(X_train, y_train)\n",
    "    \n",
    "    # define score\n",
    "    test_score = np.round(pipe.score(X_test, y_test), 3)\n",
    "    \n",
    "    # print model and score\n",
    "    print (f' model: {transformer, classifier}')\n",
    "    return (f' test score: {test_score}')"
   ]
  },
  {
   "cell_type": "code",
   "execution_count": 14,
   "id": "2102c159-4eba-424f-b07b-fd3086c2bcf7",
   "metadata": {},
   "outputs": [],
   "source": [
    "# function that helps guage which hyperparameters to tune in order to avoid running too many parameters in Grid Search\n",
    "\n",
    "def count_vec_options(classifier, X, y):\n",
    "    # count vectorizer\n",
    "    print(model_score(CountVectorizer(), classifier, X, y))\n",
    "    print(model_score(CountVectorizer(stop_words = 'english'),classifier, X, y))\n",
    "    print(model_score(CountVectorizer(stop_words = 'english', max_features = 1_000), classifier, X, y))\n",
    "    print(model_score(CountVectorizer(preprocessor=split_into_lemmas), classifier, X, y))\n",
    "    print(model_score(CountVectorizer(preprocessor=stem_sentence), classifier, X, y))\n",
    "    print(model_score(CountVectorizer(ngram_range=(1,2)), classifier, X, y))"
   ]
  },
  {
   "cell_type": "code",
   "execution_count": 15,
   "id": "e8772a6f-65f1-4374-ba59-e75511f68c04",
   "metadata": {},
   "outputs": [],
   "source": [
    "# function that helps guage which hyperparameters to tune in order to avoid running too many parameters in Grid Search\n",
    "\n",
    "def tfidf_vec_options(classifier, X, y):\n",
    "   # tfidf vectorizer\n",
    "    print(model_score(TfidfVectorizer(), classifier, X, y))\n",
    "    print(model_score(TfidfVectorizer(stop_words = 'english'), classifier, X, y))\n",
    "    print(model_score(TfidfVectorizer(stop_words = 'english', max_features = 1_000), classifier, X, y))\n",
    "    print(model_score(TfidfVectorizer(preprocessor=split_into_lemmas), classifier, X, y))\n",
    "    print(model_score(TfidfVectorizer(preprocessor=stem_sentence), classifier, X, y))\n",
    "    print(model_score(TfidfVectorizer(ngram_range=(1,2)), classifier, X, y))"
   ]
  },
  {
   "cell_type": "markdown",
   "id": "7f4d2d79-5fc7-4199-b58c-91966f05f121",
   "metadata": {},
   "source": [
    "### 5. Testing Classifier Models"
   ]
  },
  {
   "cell_type": "code",
   "execution_count": 16,
   "id": "28770051-666e-4999-a034-85a82d556b69",
   "metadata": {},
   "outputs": [],
   "source": [
    "lr = LogisticRegression(random_state=4, max_iter=10_000)\n",
    "knn = KNeighborsClassifier()\n",
    "dtc = DecisionTreeClassifier(random_state=4)\n",
    "bag = BaggingClassifier(random_state=4)\n",
    "rfc = RandomForestClassifier(random_state=4)\n",
    "ada = AdaBoostClassifier(random_state=4)\n",
    "#gb = GradientBoostingClassifier(random_state = 4)"
   ]
  },
  {
   "cell_type": "code",
   "execution_count": 17,
   "id": "2d621dc9-1f60-4fb4-afa3-be3eaf712999",
   "metadata": {
    "tags": []
   },
   "outputs": [],
   "source": [
    "#models = [lr, knn, dtc, bag, rfc, ada, gb]\n",
    "models = [lr, knn, dtc, bag, rfc, ada]"
   ]
  },
  {
   "cell_type": "markdown",
   "id": "f723f677-9969-414f-85ba-a7b88b0ee2da",
   "metadata": {},
   "source": [
    "**X with one feature**"
   ]
  },
  {
   "cell_type": "code",
   "execution_count": 206,
   "id": "58c5c248-f5cb-4f44-8932-86dba84e9d2f",
   "metadata": {},
   "outputs": [],
   "source": [
    "X = disney['clean_text']\n",
    "y = disney['Rating']"
   ]
  },
  {
   "cell_type": "code",
   "execution_count": 207,
   "id": "260c23d7-c8c2-411b-813c-7fcd5083789e",
   "metadata": {},
   "outputs": [
    {
     "name": "stdout",
     "output_type": "stream",
     "text": [
      " model: (CountVectorizer(), LogisticRegression(max_iter=10000, random_state=4))\n",
      " test score: 0.61\n",
      " model: (CountVectorizer(), KNeighborsClassifier())\n",
      " test score: 0.529\n",
      " model: (CountVectorizer(), DecisionTreeClassifier(random_state=4))\n",
      " test score: 0.475\n",
      " model: (CountVectorizer(), BaggingClassifier(random_state=4))\n",
      " test score: 0.542\n",
      " model: (CountVectorizer(), RandomForestClassifier(random_state=4))\n",
      " test score: 0.548\n",
      " model: (CountVectorizer(), AdaBoostClassifier(random_state=4))\n",
      " test score: 0.578\n"
     ]
    }
   ],
   "source": [
    "for model in models:\n",
    "    print(model_score(CountVectorizer(), model, X, y))"
   ]
  },
  {
   "cell_type": "code",
   "execution_count": 208,
   "id": "b0f90ad0-3c18-4227-a4af-0f5f64596bab",
   "metadata": {},
   "outputs": [
    {
     "name": "stdout",
     "output_type": "stream",
     "text": [
      " model: (TfidfVectorizer(), LogisticRegression(max_iter=10000, random_state=4))\n",
      " test score: 0.635\n",
      " model: (TfidfVectorizer(), KNeighborsClassifier())\n",
      " test score: 0.518\n",
      " model: (TfidfVectorizer(), DecisionTreeClassifier(random_state=4))\n",
      " test score: 0.478\n",
      " model: (TfidfVectorizer(), BaggingClassifier(random_state=4))\n",
      " test score: 0.551\n",
      " model: (TfidfVectorizer(), RandomForestClassifier(random_state=4))\n",
      " test score: 0.55\n",
      " model: (TfidfVectorizer(), AdaBoostClassifier(random_state=4))\n",
      " test score: 0.579\n"
     ]
    }
   ],
   "source": [
    "for model in models:\n",
    "    print(model_score(TfidfVectorizer(), model, X, y))"
   ]
  },
  {
   "cell_type": "markdown",
   "id": "4c0298b7-0c7b-4dfd-b77a-b1761a8f103d",
   "metadata": {},
   "source": [
    "**X with two feaures**"
   ]
  },
  {
   "cell_type": "code",
   "execution_count": 211,
   "id": "7c67afdd-fdab-4543-b101-5994f35c1d9c",
   "metadata": {},
   "outputs": [],
   "source": [
    "X = disney[['clean_text', 'text_word_count', 'subjectivity', 'tb_polarity', 'vs_polarity', 'park']]\n",
    "y = disney['Rating']"
   ]
  },
  {
   "cell_type": "code",
   "execution_count": 21,
   "id": "c69df3c2-8223-46d9-8de5-fdeef5a65a0e",
   "metadata": {},
   "outputs": [
    {
     "name": "stdout",
     "output_type": "stream",
     "text": [
      " model: (CountVectorizer(), LogisticRegression(max_iter=10000, random_state=4))\n",
      " test score: 0.509\n",
      " model: (CountVectorizer(), KNeighborsClassifier())\n",
      " test score: 0.538\n",
      " model: (CountVectorizer(), DecisionTreeClassifier(random_state=4))\n",
      " test score: 0.505\n",
      " model: (CountVectorizer(), BaggingClassifier(random_state=4))\n",
      " test score: 0.563\n",
      " model: (CountVectorizer(), RandomForestClassifier(random_state=4))\n",
      " test score: 0.556\n",
      " model: (CountVectorizer(), AdaBoostClassifier(random_state=4))\n",
      " test score: 0.584\n"
     ]
    }
   ],
   "source": [
    "for model in models:\n",
    "    print(model_score_more_feats(CountVectorizer(), model, X, y))"
   ]
  },
  {
   "cell_type": "code",
   "execution_count": 213,
   "id": "f405e929-dc5a-4910-aa5d-5e7e9302bdd0",
   "metadata": {},
   "outputs": [
    {
     "name": "stdout",
     "output_type": "stream",
     "text": [
      " model: (TfidfVectorizer(), LogisticRegression(max_iter=10000, random_state=4))\n",
      " test score: 0.493\n",
      " model: (TfidfVectorizer(), KNeighborsClassifier())\n",
      " test score: 0.533\n",
      " model: (TfidfVectorizer(), DecisionTreeClassifier(random_state=4))\n",
      " test score: 0.499\n",
      " model: (TfidfVectorizer(), BaggingClassifier(random_state=4))\n",
      " test score: 0.558\n",
      " model: (TfidfVectorizer(), RandomForestClassifier(random_state=4))\n",
      " test score: 0.558\n",
      " model: (TfidfVectorizer(), AdaBoostClassifier(random_state=4))\n",
      " test score: 0.584\n"
     ]
    }
   ],
   "source": [
    "for model in models:\n",
    "    print(model_score_more_feats(TfidfVectorizer(), model, X, y))"
   ]
  },
  {
   "cell_type": "markdown",
   "id": "dd27e40d-0155-495b-ad5f-cc6dc3a045bd",
   "metadata": {},
   "source": [
    "### 6. Regression Models"
   ]
  },
  {
   "cell_type": "markdown",
   "id": "48e94a30-ff06-4714-8d86-994bcd154abc",
   "metadata": {},
   "source": [
    "Instead of making this a classification problem, let's attempt to make it a regession problem, and then simply round the results. "
   ]
  },
  {
   "cell_type": "code",
   "execution_count": 40,
   "id": "916b6e4e-e122-4319-992d-a1f768a23b4d",
   "metadata": {},
   "outputs": [],
   "source": [
    "X = disney[['text_word_count', 'subjectivity', 'tb_polarity', 'vs_polarity', 'park']]\n",
    "y = disney['Rating']"
   ]
  },
  {
   "cell_type": "code",
   "execution_count": 41,
   "id": "8d8c4e5f-c809-4399-b8ba-fe57f602cb85",
   "metadata": {},
   "outputs": [],
   "source": [
    "X_train, X_test, y_train, y_test = train_test_split(X, y, random_state = 4, stratify = y)"
   ]
  },
  {
   "cell_type": "markdown",
   "id": "3925bdb0-46bf-4cb7-a883-6bc085e6ee5a",
   "metadata": {},
   "source": [
    "**Baseline Model**"
   ]
  },
  {
   "cell_type": "code",
   "execution_count": 74,
   "id": "920e65d4-1219-42be-ba49-dd0e5ef3f446",
   "metadata": {},
   "outputs": [
    {
     "data": {
      "text/plain": [
       "4.217554388597149"
      ]
     },
     "execution_count": 74,
     "metadata": {},
     "output_type": "execute_result"
    }
   ],
   "source": [
    "y_test.mean()"
   ]
  },
  {
   "cell_type": "code",
   "execution_count": 71,
   "id": "ebc55d1f-8342-46f2-913e-232cb52e2992",
   "metadata": {},
   "outputs": [
    {
     "data": {
      "text/plain": [
       "array([4, 4, 4, ..., 4, 4, 4])"
      ]
     },
     "execution_count": 71,
     "metadata": {},
     "output_type": "execute_result"
    }
   ],
   "source": [
    "y_baseline = np.full_like(y_test, y.mean())\n",
    "y_baseline"
   ]
  },
  {
   "cell_type": "code",
   "execution_count": 73,
   "id": "0eedb9eb-9051-4a2b-a86f-43407b0c22e5",
   "metadata": {},
   "outputs": [
    {
     "data": {
      "text/plain": [
       "1.178357089272318"
      ]
     },
     "execution_count": 73,
     "metadata": {},
     "output_type": "execute_result"
    }
   ],
   "source": [
    "mean_squared_error(y_test, y_baseline)"
   ]
  },
  {
   "cell_type": "code",
   "execution_count": 78,
   "id": "94f1fa78-61da-4465-bef8-529cc4e273b4",
   "metadata": {},
   "outputs": [
    {
     "data": {
      "text/plain": [
       "-0.04184683882834328"
      ]
     },
     "execution_count": 78,
     "metadata": {},
     "output_type": "execute_result"
    }
   ],
   "source": [
    "r2_score(y_test, y_baseline)"
   ]
  },
  {
   "cell_type": "markdown",
   "id": "f0583503-8aad-467f-aa0b-aabef88e9582",
   "metadata": {},
   "source": [
    "**Linear Regression**"
   ]
  },
  {
   "cell_type": "code",
   "execution_count": 50,
   "id": "43c7266e-e7f4-47e5-b936-185553e37591",
   "metadata": {},
   "outputs": [],
   "source": [
    "sklearn.set_config(display = 'diagram') "
   ]
  },
  {
   "cell_type": "code",
   "execution_count": 86,
   "id": "ad647abc-8480-4778-b713-e416a89f0271",
   "metadata": {},
   "outputs": [],
   "source": [
    "lr = LinearRegression()"
   ]
  },
  {
   "cell_type": "code",
   "execution_count": 87,
   "id": "fdd1dfd2-1fa2-4e16-9ad4-c37bd85a9c86",
   "metadata": {},
   "outputs": [
    {
     "data": {
      "text/html": [
       "<style>#sk-e516cb9e-2d8d-43a3-95dc-2f395182802a {color: black;background-color: white;}#sk-e516cb9e-2d8d-43a3-95dc-2f395182802a pre{padding: 0;}#sk-e516cb9e-2d8d-43a3-95dc-2f395182802a div.sk-toggleable {background-color: white;}#sk-e516cb9e-2d8d-43a3-95dc-2f395182802a label.sk-toggleable__label {cursor: pointer;display: block;width: 100%;margin-bottom: 0;padding: 0.3em;box-sizing: border-box;text-align: center;}#sk-e516cb9e-2d8d-43a3-95dc-2f395182802a div.sk-toggleable__content {max-height: 0;max-width: 0;overflow: hidden;text-align: left;background-color: #f0f8ff;}#sk-e516cb9e-2d8d-43a3-95dc-2f395182802a div.sk-toggleable__content pre {margin: 0.2em;color: black;border-radius: 0.25em;background-color: #f0f8ff;}#sk-e516cb9e-2d8d-43a3-95dc-2f395182802a input.sk-toggleable__control:checked~div.sk-toggleable__content {max-height: 200px;max-width: 100%;overflow: auto;}#sk-e516cb9e-2d8d-43a3-95dc-2f395182802a div.sk-estimator input.sk-toggleable__control:checked~label.sk-toggleable__label {background-color: #d4ebff;}#sk-e516cb9e-2d8d-43a3-95dc-2f395182802a div.sk-label input.sk-toggleable__control:checked~label.sk-toggleable__label {background-color: #d4ebff;}#sk-e516cb9e-2d8d-43a3-95dc-2f395182802a input.sk-hidden--visually {border: 0;clip: rect(1px 1px 1px 1px);clip: rect(1px, 1px, 1px, 1px);height: 1px;margin: -1px;overflow: hidden;padding: 0;position: absolute;width: 1px;}#sk-e516cb9e-2d8d-43a3-95dc-2f395182802a div.sk-estimator {font-family: monospace;background-color: #f0f8ff;border: 1px dotted black;border-radius: 0.25em;box-sizing: border-box;margin-bottom: 0.5em;}#sk-e516cb9e-2d8d-43a3-95dc-2f395182802a div.sk-estimator:hover {background-color: #d4ebff;}#sk-e516cb9e-2d8d-43a3-95dc-2f395182802a div.sk-parallel-item::after {content: \"\";width: 100%;border-bottom: 1px solid gray;flex-grow: 1;}#sk-e516cb9e-2d8d-43a3-95dc-2f395182802a div.sk-label:hover label.sk-toggleable__label {background-color: #d4ebff;}#sk-e516cb9e-2d8d-43a3-95dc-2f395182802a div.sk-serial::before {content: \"\";position: absolute;border-left: 1px solid gray;box-sizing: border-box;top: 2em;bottom: 0;left: 50%;}#sk-e516cb9e-2d8d-43a3-95dc-2f395182802a div.sk-serial {display: flex;flex-direction: column;align-items: center;background-color: white;padding-right: 0.2em;padding-left: 0.2em;}#sk-e516cb9e-2d8d-43a3-95dc-2f395182802a div.sk-item {z-index: 1;}#sk-e516cb9e-2d8d-43a3-95dc-2f395182802a div.sk-parallel {display: flex;align-items: stretch;justify-content: center;background-color: white;}#sk-e516cb9e-2d8d-43a3-95dc-2f395182802a div.sk-parallel::before {content: \"\";position: absolute;border-left: 1px solid gray;box-sizing: border-box;top: 2em;bottom: 0;left: 50%;}#sk-e516cb9e-2d8d-43a3-95dc-2f395182802a div.sk-parallel-item {display: flex;flex-direction: column;position: relative;background-color: white;}#sk-e516cb9e-2d8d-43a3-95dc-2f395182802a div.sk-parallel-item:first-child::after {align-self: flex-end;width: 50%;}#sk-e516cb9e-2d8d-43a3-95dc-2f395182802a div.sk-parallel-item:last-child::after {align-self: flex-start;width: 50%;}#sk-e516cb9e-2d8d-43a3-95dc-2f395182802a div.sk-parallel-item:only-child::after {width: 0;}#sk-e516cb9e-2d8d-43a3-95dc-2f395182802a div.sk-dashed-wrapped {border: 1px dashed gray;margin: 0 0.4em 0.5em 0.4em;box-sizing: border-box;padding-bottom: 0.4em;background-color: white;position: relative;}#sk-e516cb9e-2d8d-43a3-95dc-2f395182802a div.sk-label label {font-family: monospace;font-weight: bold;background-color: white;display: inline-block;line-height: 1.2em;}#sk-e516cb9e-2d8d-43a3-95dc-2f395182802a div.sk-label-container {position: relative;z-index: 2;text-align: center;}#sk-e516cb9e-2d8d-43a3-95dc-2f395182802a div.sk-container {display: inline-block;position: relative;}</style><div id=\"sk-e516cb9e-2d8d-43a3-95dc-2f395182802a\" class\"sk-top-container\"><div class=\"sk-container\"><div class=\"sk-item sk-dashed-wrapped\"><div class=\"sk-label-container\"><div class=\"sk-label sk-toggleable\"><input class=\"sk-toggleable__control sk-hidden--visually\" id=\"84327dae-3c53-45eb-bca1-525dd7d0c440\" type=\"checkbox\" ><label class=\"sk-toggleable__label\" for=\"84327dae-3c53-45eb-bca1-525dd7d0c440\">ColumnTransformer</label><div class=\"sk-toggleable__content\"><pre>ColumnTransformer(remainder='passthrough',\n",
       "                  transformers=[('onehotencoder',\n",
       "                                 OneHotEncoder(handle_unknown='ignore',\n",
       "                                               sparse=False),\n",
       "                                 ['park'])])</pre></div></div></div><div class=\"sk-parallel\"><div class=\"sk-parallel-item\"><div class=\"sk-item\"><div class=\"sk-label-container\"><div class=\"sk-label sk-toggleable\"><input class=\"sk-toggleable__control sk-hidden--visually\" id=\"f6c1c834-5b67-431f-baf0-facce1794c60\" type=\"checkbox\" ><label class=\"sk-toggleable__label\" for=\"f6c1c834-5b67-431f-baf0-facce1794c60\">onehotencoder</label><div class=\"sk-toggleable__content\"><pre>['park']</pre></div></div></div><div class=\"sk-serial\"><div class=\"sk-item\"><div class=\"sk-estimator sk-toggleable\"><input class=\"sk-toggleable__control sk-hidden--visually\" id=\"39e75933-1366-48ee-aea2-0b2750fadba4\" type=\"checkbox\" ><label class=\"sk-toggleable__label\" for=\"39e75933-1366-48ee-aea2-0b2750fadba4\">OneHotEncoder</label><div class=\"sk-toggleable__content\"><pre>OneHotEncoder(handle_unknown='ignore', sparse=False)</pre></div></div></div></div></div></div><div class=\"sk-parallel-item\"><div class=\"sk-item\"><div class=\"sk-label-container\"><div class=\"sk-label sk-toggleable\"><input class=\"sk-toggleable__control sk-hidden--visually\" id=\"29ad70e9-0aed-40bc-9acf-f7b2fbf7e1be\" type=\"checkbox\" ><label class=\"sk-toggleable__label\" for=\"29ad70e9-0aed-40bc-9acf-f7b2fbf7e1be\">remainder</label><div class=\"sk-toggleable__content\"><pre></pre></div></div></div><div class=\"sk-serial\"><div class=\"sk-item\"><div class=\"sk-estimator sk-toggleable\"><input class=\"sk-toggleable__control sk-hidden--visually\" id=\"a945822e-bc3b-4e0f-9d39-bedfd649bcfb\" type=\"checkbox\" ><label class=\"sk-toggleable__label\" for=\"a945822e-bc3b-4e0f-9d39-bedfd649bcfb\">passthrough</label><div class=\"sk-toggleable__content\"><pre>passthrough</pre></div></div></div></div></div></div></div></div></div></div>"
      ],
      "text/plain": [
       "ColumnTransformer(remainder='passthrough',\n",
       "                  transformers=[('onehotencoder',\n",
       "                                 OneHotEncoder(handle_unknown='ignore',\n",
       "                                               sparse=False),\n",
       "                                 ['park'])])"
      ]
     },
     "execution_count": 87,
     "metadata": {},
     "output_type": "execute_result"
    }
   ],
   "source": [
    "ct2 = make_column_transformer(\n",
    "    (OneHotEncoder(handle_unknown = 'ignore', sparse=False), ['park']), \n",
    "    remainder = 'passthrough')\n",
    "\n",
    "ct2"
   ]
  },
  {
   "cell_type": "code",
   "execution_count": 88,
   "id": "022bc0aa-7a10-4cf4-8624-6dd123b5066e",
   "metadata": {},
   "outputs": [],
   "source": [
    "rfe = RFE(estimator=LinearRegression())"
   ]
  },
  {
   "cell_type": "code",
   "execution_count": 138,
   "id": "e0cf0648-6350-4653-96df-3a40f85572e8",
   "metadata": {},
   "outputs": [],
   "source": [
    "pipe = make_pipeline(ct2, StandardScaler(), PolynomialFeatures(), lr)"
   ]
  },
  {
   "cell_type": "code",
   "execution_count": 139,
   "id": "ed4c5ec8-01a0-4f09-b234-b193a1ad75c3",
   "metadata": {},
   "outputs": [
    {
     "data": {
      "text/html": [
       "<style>#sk-f75cb256-829c-42a3-87c3-655dca30e48f {color: black;background-color: white;}#sk-f75cb256-829c-42a3-87c3-655dca30e48f pre{padding: 0;}#sk-f75cb256-829c-42a3-87c3-655dca30e48f div.sk-toggleable {background-color: white;}#sk-f75cb256-829c-42a3-87c3-655dca30e48f label.sk-toggleable__label {cursor: pointer;display: block;width: 100%;margin-bottom: 0;padding: 0.3em;box-sizing: border-box;text-align: center;}#sk-f75cb256-829c-42a3-87c3-655dca30e48f div.sk-toggleable__content {max-height: 0;max-width: 0;overflow: hidden;text-align: left;background-color: #f0f8ff;}#sk-f75cb256-829c-42a3-87c3-655dca30e48f div.sk-toggleable__content pre {margin: 0.2em;color: black;border-radius: 0.25em;background-color: #f0f8ff;}#sk-f75cb256-829c-42a3-87c3-655dca30e48f input.sk-toggleable__control:checked~div.sk-toggleable__content {max-height: 200px;max-width: 100%;overflow: auto;}#sk-f75cb256-829c-42a3-87c3-655dca30e48f div.sk-estimator input.sk-toggleable__control:checked~label.sk-toggleable__label {background-color: #d4ebff;}#sk-f75cb256-829c-42a3-87c3-655dca30e48f div.sk-label input.sk-toggleable__control:checked~label.sk-toggleable__label {background-color: #d4ebff;}#sk-f75cb256-829c-42a3-87c3-655dca30e48f input.sk-hidden--visually {border: 0;clip: rect(1px 1px 1px 1px);clip: rect(1px, 1px, 1px, 1px);height: 1px;margin: -1px;overflow: hidden;padding: 0;position: absolute;width: 1px;}#sk-f75cb256-829c-42a3-87c3-655dca30e48f div.sk-estimator {font-family: monospace;background-color: #f0f8ff;border: 1px dotted black;border-radius: 0.25em;box-sizing: border-box;margin-bottom: 0.5em;}#sk-f75cb256-829c-42a3-87c3-655dca30e48f div.sk-estimator:hover {background-color: #d4ebff;}#sk-f75cb256-829c-42a3-87c3-655dca30e48f div.sk-parallel-item::after {content: \"\";width: 100%;border-bottom: 1px solid gray;flex-grow: 1;}#sk-f75cb256-829c-42a3-87c3-655dca30e48f div.sk-label:hover label.sk-toggleable__label {background-color: #d4ebff;}#sk-f75cb256-829c-42a3-87c3-655dca30e48f div.sk-serial::before {content: \"\";position: absolute;border-left: 1px solid gray;box-sizing: border-box;top: 2em;bottom: 0;left: 50%;}#sk-f75cb256-829c-42a3-87c3-655dca30e48f div.sk-serial {display: flex;flex-direction: column;align-items: center;background-color: white;padding-right: 0.2em;padding-left: 0.2em;}#sk-f75cb256-829c-42a3-87c3-655dca30e48f div.sk-item {z-index: 1;}#sk-f75cb256-829c-42a3-87c3-655dca30e48f div.sk-parallel {display: flex;align-items: stretch;justify-content: center;background-color: white;}#sk-f75cb256-829c-42a3-87c3-655dca30e48f div.sk-parallel::before {content: \"\";position: absolute;border-left: 1px solid gray;box-sizing: border-box;top: 2em;bottom: 0;left: 50%;}#sk-f75cb256-829c-42a3-87c3-655dca30e48f div.sk-parallel-item {display: flex;flex-direction: column;position: relative;background-color: white;}#sk-f75cb256-829c-42a3-87c3-655dca30e48f div.sk-parallel-item:first-child::after {align-self: flex-end;width: 50%;}#sk-f75cb256-829c-42a3-87c3-655dca30e48f div.sk-parallel-item:last-child::after {align-self: flex-start;width: 50%;}#sk-f75cb256-829c-42a3-87c3-655dca30e48f div.sk-parallel-item:only-child::after {width: 0;}#sk-f75cb256-829c-42a3-87c3-655dca30e48f div.sk-dashed-wrapped {border: 1px dashed gray;margin: 0 0.4em 0.5em 0.4em;box-sizing: border-box;padding-bottom: 0.4em;background-color: white;position: relative;}#sk-f75cb256-829c-42a3-87c3-655dca30e48f div.sk-label label {font-family: monospace;font-weight: bold;background-color: white;display: inline-block;line-height: 1.2em;}#sk-f75cb256-829c-42a3-87c3-655dca30e48f div.sk-label-container {position: relative;z-index: 2;text-align: center;}#sk-f75cb256-829c-42a3-87c3-655dca30e48f div.sk-container {display: inline-block;position: relative;}</style><div id=\"sk-f75cb256-829c-42a3-87c3-655dca30e48f\" class\"sk-top-container\"><div class=\"sk-container\"><div class=\"sk-item sk-dashed-wrapped\"><div class=\"sk-label-container\"><div class=\"sk-label sk-toggleable\"><input class=\"sk-toggleable__control sk-hidden--visually\" id=\"ceb06bee-d383-43f1-bf95-b1259f6e34b3\" type=\"checkbox\" ><label class=\"sk-toggleable__label\" for=\"ceb06bee-d383-43f1-bf95-b1259f6e34b3\">Pipeline</label><div class=\"sk-toggleable__content\"><pre>Pipeline(steps=[('columntransformer',\n",
       "                 ColumnTransformer(remainder='passthrough',\n",
       "                                   transformers=[('onehotencoder',\n",
       "                                                  OneHotEncoder(handle_unknown='ignore',\n",
       "                                                                sparse=False),\n",
       "                                                  ['park'])])),\n",
       "                ('standardscaler', StandardScaler()),\n",
       "                ('polynomialfeatures', PolynomialFeatures()),\n",
       "                ('linearregression', LinearRegression())])</pre></div></div></div><div class=\"sk-serial\"><div class=\"sk-item sk-dashed-wrapped\"><div class=\"sk-label-container\"><div class=\"sk-label sk-toggleable\"><input class=\"sk-toggleable__control sk-hidden--visually\" id=\"61f30666-4182-4f9b-9af0-2fa7f6ade929\" type=\"checkbox\" ><label class=\"sk-toggleable__label\" for=\"61f30666-4182-4f9b-9af0-2fa7f6ade929\">columntransformer: ColumnTransformer</label><div class=\"sk-toggleable__content\"><pre>ColumnTransformer(remainder='passthrough',\n",
       "                  transformers=[('onehotencoder',\n",
       "                                 OneHotEncoder(handle_unknown='ignore',\n",
       "                                               sparse=False),\n",
       "                                 ['park'])])</pre></div></div></div><div class=\"sk-parallel\"><div class=\"sk-parallel-item\"><div class=\"sk-item\"><div class=\"sk-label-container\"><div class=\"sk-label sk-toggleable\"><input class=\"sk-toggleable__control sk-hidden--visually\" id=\"8a45ab7f-1d43-4a98-9eae-c7d36a8ba7b6\" type=\"checkbox\" ><label class=\"sk-toggleable__label\" for=\"8a45ab7f-1d43-4a98-9eae-c7d36a8ba7b6\">onehotencoder</label><div class=\"sk-toggleable__content\"><pre>['park']</pre></div></div></div><div class=\"sk-serial\"><div class=\"sk-item\"><div class=\"sk-estimator sk-toggleable\"><input class=\"sk-toggleable__control sk-hidden--visually\" id=\"d04ba10f-4f19-423e-8743-e3b072f1f3a6\" type=\"checkbox\" ><label class=\"sk-toggleable__label\" for=\"d04ba10f-4f19-423e-8743-e3b072f1f3a6\">OneHotEncoder</label><div class=\"sk-toggleable__content\"><pre>OneHotEncoder(handle_unknown='ignore', sparse=False)</pre></div></div></div></div></div></div><div class=\"sk-parallel-item\"><div class=\"sk-item\"><div class=\"sk-label-container\"><div class=\"sk-label sk-toggleable\"><input class=\"sk-toggleable__control sk-hidden--visually\" id=\"4a3622f3-8fd2-447d-8f1d-5d4e04aaf645\" type=\"checkbox\" ><label class=\"sk-toggleable__label\" for=\"4a3622f3-8fd2-447d-8f1d-5d4e04aaf645\">remainder</label><div class=\"sk-toggleable__content\"><pre>['text_word_count', 'subjectivity', 'tb_polarity', 'vs_polarity']</pre></div></div></div><div class=\"sk-serial\"><div class=\"sk-item\"><div class=\"sk-estimator sk-toggleable\"><input class=\"sk-toggleable__control sk-hidden--visually\" id=\"08ba97b1-8e22-4e30-bee7-8475e3631968\" type=\"checkbox\" ><label class=\"sk-toggleable__label\" for=\"08ba97b1-8e22-4e30-bee7-8475e3631968\">passthrough</label><div class=\"sk-toggleable__content\"><pre>passthrough</pre></div></div></div></div></div></div></div></div><div class=\"sk-item\"><div class=\"sk-estimator sk-toggleable\"><input class=\"sk-toggleable__control sk-hidden--visually\" id=\"dc2a245a-ec69-4f67-b8c8-34b5355aa146\" type=\"checkbox\" ><label class=\"sk-toggleable__label\" for=\"dc2a245a-ec69-4f67-b8c8-34b5355aa146\">StandardScaler</label><div class=\"sk-toggleable__content\"><pre>StandardScaler()</pre></div></div></div><div class=\"sk-item\"><div class=\"sk-estimator sk-toggleable\"><input class=\"sk-toggleable__control sk-hidden--visually\" id=\"265d3439-fcb7-43ad-b398-3f5e2483ca0c\" type=\"checkbox\" ><label class=\"sk-toggleable__label\" for=\"265d3439-fcb7-43ad-b398-3f5e2483ca0c\">PolynomialFeatures</label><div class=\"sk-toggleable__content\"><pre>PolynomialFeatures()</pre></div></div></div><div class=\"sk-item\"><div class=\"sk-estimator sk-toggleable\"><input class=\"sk-toggleable__control sk-hidden--visually\" id=\"27b11b56-3b0f-4f1c-8fd3-d47b7673abdc\" type=\"checkbox\" ><label class=\"sk-toggleable__label\" for=\"27b11b56-3b0f-4f1c-8fd3-d47b7673abdc\">LinearRegression</label><div class=\"sk-toggleable__content\"><pre>LinearRegression()</pre></div></div></div></div></div></div></div>"
      ],
      "text/plain": [
       "Pipeline(steps=[('columntransformer',\n",
       "                 ColumnTransformer(remainder='passthrough',\n",
       "                                   transformers=[('onehotencoder',\n",
       "                                                  OneHotEncoder(handle_unknown='ignore',\n",
       "                                                                sparse=False),\n",
       "                                                  ['park'])])),\n",
       "                ('standardscaler', StandardScaler()),\n",
       "                ('polynomialfeatures', PolynomialFeatures()),\n",
       "                ('linearregression', LinearRegression())])"
      ]
     },
     "execution_count": 139,
     "metadata": {},
     "output_type": "execute_result"
    }
   ],
   "source": [
    "pipe.fit(X_train, y_train)"
   ]
  },
  {
   "cell_type": "code",
   "execution_count": 140,
   "id": "e6cf37e5-bdf8-4235-97c1-aec2faba2723",
   "metadata": {},
   "outputs": [],
   "source": [
    "preds = pipe.predict(X_test)"
   ]
  },
  {
   "cell_type": "code",
   "execution_count": 141,
   "id": "dd241919-54cb-4a42-8e6d-7eefe0995331",
   "metadata": {},
   "outputs": [
    {
     "data": {
      "text/plain": [
       "0.363155848603796"
      ]
     },
     "execution_count": 141,
     "metadata": {},
     "output_type": "execute_result"
    }
   ],
   "source": [
    "pipe.score(X_test, y_test)"
   ]
  },
  {
   "cell_type": "code",
   "execution_count": 142,
   "id": "c114730e-fcda-4e4f-9fdf-46e55274c6bd",
   "metadata": {},
   "outputs": [
    {
     "data": {
      "text/plain": [
       "0.7202880429173837"
      ]
     },
     "execution_count": 142,
     "metadata": {},
     "output_type": "execute_result"
    }
   ],
   "source": [
    "mean_squared_error(y_test, preds)"
   ]
  },
  {
   "cell_type": "code",
   "execution_count": 143,
   "id": "4b545aca-e1ac-4b39-a70c-1048608af1e0",
   "metadata": {},
   "outputs": [
    {
     "data": {
      "text/plain": [
       "0.363155848603796"
      ]
     },
     "execution_count": 143,
     "metadata": {},
     "output_type": "execute_result"
    }
   ],
   "source": [
    "r2_score(y_test, preds)"
   ]
  },
  {
   "cell_type": "code",
   "execution_count": 144,
   "id": "a4fe722b-b491-4579-b861-0fc929581128",
   "metadata": {
    "collapsed": true,
    "jupyter": {
     "outputs_hidden": true
    },
    "tags": []
   },
   "outputs": [
    {
     "data": {
      "text/plain": [
       "{'memory': None,\n",
       " 'steps': [('columntransformer',\n",
       "   ColumnTransformer(remainder='passthrough',\n",
       "                     transformers=[('onehotencoder',\n",
       "                                    OneHotEncoder(handle_unknown='ignore',\n",
       "                                                  sparse=False),\n",
       "                                    ['park'])])),\n",
       "  ('standardscaler', StandardScaler()),\n",
       "  ('polynomialfeatures', PolynomialFeatures()),\n",
       "  ('linearregression', LinearRegression())],\n",
       " 'verbose': False,\n",
       " 'columntransformer': ColumnTransformer(remainder='passthrough',\n",
       "                   transformers=[('onehotencoder',\n",
       "                                  OneHotEncoder(handle_unknown='ignore',\n",
       "                                                sparse=False),\n",
       "                                  ['park'])]),\n",
       " 'standardscaler': StandardScaler(),\n",
       " 'polynomialfeatures': PolynomialFeatures(),\n",
       " 'linearregression': LinearRegression(),\n",
       " 'columntransformer__n_jobs': None,\n",
       " 'columntransformer__remainder': 'passthrough',\n",
       " 'columntransformer__sparse_threshold': 0.3,\n",
       " 'columntransformer__transformer_weights': None,\n",
       " 'columntransformer__transformers': [('onehotencoder',\n",
       "   OneHotEncoder(handle_unknown='ignore', sparse=False),\n",
       "   ['park'])],\n",
       " 'columntransformer__verbose': False,\n",
       " 'columntransformer__verbose_feature_names_out': True,\n",
       " 'columntransformer__onehotencoder': OneHotEncoder(handle_unknown='ignore', sparse=False),\n",
       " 'columntransformer__onehotencoder__categories': 'auto',\n",
       " 'columntransformer__onehotencoder__drop': None,\n",
       " 'columntransformer__onehotencoder__dtype': numpy.float64,\n",
       " 'columntransformer__onehotencoder__handle_unknown': 'ignore',\n",
       " 'columntransformer__onehotencoder__sparse': False,\n",
       " 'standardscaler__copy': True,\n",
       " 'standardscaler__with_mean': True,\n",
       " 'standardscaler__with_std': True,\n",
       " 'polynomialfeatures__degree': 2,\n",
       " 'polynomialfeatures__include_bias': True,\n",
       " 'polynomialfeatures__interaction_only': False,\n",
       " 'polynomialfeatures__order': 'C',\n",
       " 'linearregression__copy_X': True,\n",
       " 'linearregression__fit_intercept': True,\n",
       " 'linearregression__n_jobs': None,\n",
       " 'linearregression__normalize': 'deprecated',\n",
       " 'linearregression__positive': False}"
      ]
     },
     "execution_count": 144,
     "metadata": {},
     "output_type": "execute_result"
    }
   ],
   "source": [
    "pipe.get_params()"
   ]
  },
  {
   "cell_type": "code",
   "execution_count": 150,
   "id": "6bbbcf82-ff28-49f2-b92e-ff39260a40f4",
   "metadata": {},
   "outputs": [],
   "source": [
    "params = {'polynomialfeatures__degree': [1,2,3,4,5], 'columntransformer__verbose': [False, True],  'polynomialfeatures__include_bias': [True, False], 'polynomialfeatures__interaction_only': [False, True]}"
   ]
  },
  {
   "cell_type": "code",
   "execution_count": 151,
   "id": "e0b92413-54c7-4ccc-9da0-fa37f4e726e0",
   "metadata": {},
   "outputs": [
    {
     "data": {
      "text/html": [
       "<style>#sk-681ea0eb-af72-469e-a712-2ae9e2e8ccd9 {color: black;background-color: white;}#sk-681ea0eb-af72-469e-a712-2ae9e2e8ccd9 pre{padding: 0;}#sk-681ea0eb-af72-469e-a712-2ae9e2e8ccd9 div.sk-toggleable {background-color: white;}#sk-681ea0eb-af72-469e-a712-2ae9e2e8ccd9 label.sk-toggleable__label {cursor: pointer;display: block;width: 100%;margin-bottom: 0;padding: 0.3em;box-sizing: border-box;text-align: center;}#sk-681ea0eb-af72-469e-a712-2ae9e2e8ccd9 div.sk-toggleable__content {max-height: 0;max-width: 0;overflow: hidden;text-align: left;background-color: #f0f8ff;}#sk-681ea0eb-af72-469e-a712-2ae9e2e8ccd9 div.sk-toggleable__content pre {margin: 0.2em;color: black;border-radius: 0.25em;background-color: #f0f8ff;}#sk-681ea0eb-af72-469e-a712-2ae9e2e8ccd9 input.sk-toggleable__control:checked~div.sk-toggleable__content {max-height: 200px;max-width: 100%;overflow: auto;}#sk-681ea0eb-af72-469e-a712-2ae9e2e8ccd9 div.sk-estimator input.sk-toggleable__control:checked~label.sk-toggleable__label {background-color: #d4ebff;}#sk-681ea0eb-af72-469e-a712-2ae9e2e8ccd9 div.sk-label input.sk-toggleable__control:checked~label.sk-toggleable__label {background-color: #d4ebff;}#sk-681ea0eb-af72-469e-a712-2ae9e2e8ccd9 input.sk-hidden--visually {border: 0;clip: rect(1px 1px 1px 1px);clip: rect(1px, 1px, 1px, 1px);height: 1px;margin: -1px;overflow: hidden;padding: 0;position: absolute;width: 1px;}#sk-681ea0eb-af72-469e-a712-2ae9e2e8ccd9 div.sk-estimator {font-family: monospace;background-color: #f0f8ff;border: 1px dotted black;border-radius: 0.25em;box-sizing: border-box;margin-bottom: 0.5em;}#sk-681ea0eb-af72-469e-a712-2ae9e2e8ccd9 div.sk-estimator:hover {background-color: #d4ebff;}#sk-681ea0eb-af72-469e-a712-2ae9e2e8ccd9 div.sk-parallel-item::after {content: \"\";width: 100%;border-bottom: 1px solid gray;flex-grow: 1;}#sk-681ea0eb-af72-469e-a712-2ae9e2e8ccd9 div.sk-label:hover label.sk-toggleable__label {background-color: #d4ebff;}#sk-681ea0eb-af72-469e-a712-2ae9e2e8ccd9 div.sk-serial::before {content: \"\";position: absolute;border-left: 1px solid gray;box-sizing: border-box;top: 2em;bottom: 0;left: 50%;}#sk-681ea0eb-af72-469e-a712-2ae9e2e8ccd9 div.sk-serial {display: flex;flex-direction: column;align-items: center;background-color: white;padding-right: 0.2em;padding-left: 0.2em;}#sk-681ea0eb-af72-469e-a712-2ae9e2e8ccd9 div.sk-item {z-index: 1;}#sk-681ea0eb-af72-469e-a712-2ae9e2e8ccd9 div.sk-parallel {display: flex;align-items: stretch;justify-content: center;background-color: white;}#sk-681ea0eb-af72-469e-a712-2ae9e2e8ccd9 div.sk-parallel::before {content: \"\";position: absolute;border-left: 1px solid gray;box-sizing: border-box;top: 2em;bottom: 0;left: 50%;}#sk-681ea0eb-af72-469e-a712-2ae9e2e8ccd9 div.sk-parallel-item {display: flex;flex-direction: column;position: relative;background-color: white;}#sk-681ea0eb-af72-469e-a712-2ae9e2e8ccd9 div.sk-parallel-item:first-child::after {align-self: flex-end;width: 50%;}#sk-681ea0eb-af72-469e-a712-2ae9e2e8ccd9 div.sk-parallel-item:last-child::after {align-self: flex-start;width: 50%;}#sk-681ea0eb-af72-469e-a712-2ae9e2e8ccd9 div.sk-parallel-item:only-child::after {width: 0;}#sk-681ea0eb-af72-469e-a712-2ae9e2e8ccd9 div.sk-dashed-wrapped {border: 1px dashed gray;margin: 0 0.4em 0.5em 0.4em;box-sizing: border-box;padding-bottom: 0.4em;background-color: white;position: relative;}#sk-681ea0eb-af72-469e-a712-2ae9e2e8ccd9 div.sk-label label {font-family: monospace;font-weight: bold;background-color: white;display: inline-block;line-height: 1.2em;}#sk-681ea0eb-af72-469e-a712-2ae9e2e8ccd9 div.sk-label-container {position: relative;z-index: 2;text-align: center;}#sk-681ea0eb-af72-469e-a712-2ae9e2e8ccd9 div.sk-container {display: inline-block;position: relative;}</style><div id=\"sk-681ea0eb-af72-469e-a712-2ae9e2e8ccd9\" class\"sk-top-container\"><div class=\"sk-container\"><div class=\"sk-item sk-dashed-wrapped\"><div class=\"sk-label-container\"><div class=\"sk-label sk-toggleable\"><input class=\"sk-toggleable__control sk-hidden--visually\" id=\"8bbf2600-d480-4c0c-ad3f-c053dc5d28b1\" type=\"checkbox\" ><label class=\"sk-toggleable__label\" for=\"8bbf2600-d480-4c0c-ad3f-c053dc5d28b1\">GridSearchCV</label><div class=\"sk-toggleable__content\"><pre>GridSearchCV(estimator=Pipeline(steps=[('columntransformer',\n",
       "                                        ColumnTransformer(remainder='passthrough',\n",
       "                                                          transformers=[('onehotencoder',\n",
       "                                                                         OneHotEncoder(handle_unknown='ignore',\n",
       "                                                                                       sparse=False),\n",
       "                                                                         ['park'])])),\n",
       "                                       ('standardscaler', StandardScaler()),\n",
       "                                       ('polynomialfeatures',\n",
       "                                        PolynomialFeatures()),\n",
       "                                       ('linearregression',\n",
       "                                        LinearRegression())]),\n",
       "             n_jobs=-1,\n",
       "             param_grid={'columntransformer__verbose': [False, True],\n",
       "                         'polynomialfeatures__degree': [1, 2, 3, 4, 5],\n",
       "                         'polynomialfeatures__include_bias': [True, False],\n",
       "                         'polynomialfeatures__interaction_only': [False, True]})</pre></div></div></div><div class=\"sk-parallel\"><div class=\"sk-parallel-item\"><div class=\"sk-item\"><div class=\"sk-serial\"><div class=\"sk-item\"><div class=\"sk-serial\"><div class=\"sk-item sk-dashed-wrapped\"><div class=\"sk-label-container\"><div class=\"sk-label sk-toggleable\"><input class=\"sk-toggleable__control sk-hidden--visually\" id=\"522b8ccb-d3fa-4ee2-a825-9886855dadb9\" type=\"checkbox\" ><label class=\"sk-toggleable__label\" for=\"522b8ccb-d3fa-4ee2-a825-9886855dadb9\">columntransformer: ColumnTransformer</label><div class=\"sk-toggleable__content\"><pre>ColumnTransformer(remainder='passthrough',\n",
       "                  transformers=[('onehotencoder',\n",
       "                                 OneHotEncoder(handle_unknown='ignore',\n",
       "                                               sparse=False),\n",
       "                                 ['park'])])</pre></div></div></div><div class=\"sk-parallel\"><div class=\"sk-parallel-item\"><div class=\"sk-item\"><div class=\"sk-label-container\"><div class=\"sk-label sk-toggleable\"><input class=\"sk-toggleable__control sk-hidden--visually\" id=\"6fdbe192-3ba9-4242-b151-8a8a4a311915\" type=\"checkbox\" ><label class=\"sk-toggleable__label\" for=\"6fdbe192-3ba9-4242-b151-8a8a4a311915\">onehotencoder</label><div class=\"sk-toggleable__content\"><pre>['park']</pre></div></div></div><div class=\"sk-serial\"><div class=\"sk-item\"><div class=\"sk-estimator sk-toggleable\"><input class=\"sk-toggleable__control sk-hidden--visually\" id=\"8060b1e5-6f5a-4e27-8e36-2dc823dbd096\" type=\"checkbox\" ><label class=\"sk-toggleable__label\" for=\"8060b1e5-6f5a-4e27-8e36-2dc823dbd096\">OneHotEncoder</label><div class=\"sk-toggleable__content\"><pre>OneHotEncoder(handle_unknown='ignore', sparse=False)</pre></div></div></div></div></div></div><div class=\"sk-parallel-item\"><div class=\"sk-item\"><div class=\"sk-label-container\"><div class=\"sk-label sk-toggleable\"><input class=\"sk-toggleable__control sk-hidden--visually\" id=\"594d360b-b5ec-417a-93c8-8d83db7706a2\" type=\"checkbox\" ><label class=\"sk-toggleable__label\" for=\"594d360b-b5ec-417a-93c8-8d83db7706a2\">remainder</label><div class=\"sk-toggleable__content\"><pre>['text_word_count', 'subjectivity', 'tb_polarity', 'vs_polarity']</pre></div></div></div><div class=\"sk-serial\"><div class=\"sk-item\"><div class=\"sk-estimator sk-toggleable\"><input class=\"sk-toggleable__control sk-hidden--visually\" id=\"9c957687-98f2-4f59-807a-f00a71d7bb6a\" type=\"checkbox\" ><label class=\"sk-toggleable__label\" for=\"9c957687-98f2-4f59-807a-f00a71d7bb6a\">passthrough</label><div class=\"sk-toggleable__content\"><pre>passthrough</pre></div></div></div></div></div></div></div></div><div class=\"sk-item\"><div class=\"sk-estimator sk-toggleable\"><input class=\"sk-toggleable__control sk-hidden--visually\" id=\"11cfb5d7-538c-4776-9f9b-919d4bd21fe8\" type=\"checkbox\" ><label class=\"sk-toggleable__label\" for=\"11cfb5d7-538c-4776-9f9b-919d4bd21fe8\">StandardScaler</label><div class=\"sk-toggleable__content\"><pre>StandardScaler()</pre></div></div></div><div class=\"sk-item\"><div class=\"sk-estimator sk-toggleable\"><input class=\"sk-toggleable__control sk-hidden--visually\" id=\"8f0c5af7-303b-4be8-b59f-b70019078011\" type=\"checkbox\" ><label class=\"sk-toggleable__label\" for=\"8f0c5af7-303b-4be8-b59f-b70019078011\">PolynomialFeatures</label><div class=\"sk-toggleable__content\"><pre>PolynomialFeatures()</pre></div></div></div><div class=\"sk-item\"><div class=\"sk-estimator sk-toggleable\"><input class=\"sk-toggleable__control sk-hidden--visually\" id=\"71a97c7a-79c0-4e48-83c5-c682f3034e05\" type=\"checkbox\" ><label class=\"sk-toggleable__label\" for=\"71a97c7a-79c0-4e48-83c5-c682f3034e05\">LinearRegression</label><div class=\"sk-toggleable__content\"><pre>LinearRegression()</pre></div></div></div></div></div></div></div></div></div></div></div></div>"
      ],
      "text/plain": [
       "GridSearchCV(estimator=Pipeline(steps=[('columntransformer',\n",
       "                                        ColumnTransformer(remainder='passthrough',\n",
       "                                                          transformers=[('onehotencoder',\n",
       "                                                                         OneHotEncoder(handle_unknown='ignore',\n",
       "                                                                                       sparse=False),\n",
       "                                                                         ['park'])])),\n",
       "                                       ('standardscaler', StandardScaler()),\n",
       "                                       ('polynomialfeatures',\n",
       "                                        PolynomialFeatures()),\n",
       "                                       ('linearregression',\n",
       "                                        LinearRegression())]),\n",
       "             n_jobs=-1,\n",
       "             param_grid={'columntransformer__verbose': [False, True],\n",
       "                         'polynomialfeatures__degree': [1, 2, 3, 4, 5],\n",
       "                         'polynomialfeatures__include_bias': [True, False],\n",
       "                         'polynomialfeatures__interaction_only': [False, True]})"
      ]
     },
     "execution_count": 151,
     "metadata": {},
     "output_type": "execute_result"
    }
   ],
   "source": [
    "gs = GridSearchCV(pipe, params, n_jobs =-1)\n",
    "gs.fit(X_train,y_train)"
   ]
  },
  {
   "cell_type": "code",
   "execution_count": 152,
   "id": "df847902-a203-4226-85bc-3f0073a1ea8d",
   "metadata": {},
   "outputs": [
    {
     "data": {
      "text/plain": [
       "0.38114621798226134"
      ]
     },
     "execution_count": 152,
     "metadata": {},
     "output_type": "execute_result"
    }
   ],
   "source": [
    "gs.score(X_test, y_test)"
   ]
  },
  {
   "cell_type": "code",
   "execution_count": 155,
   "id": "73ea2191-3fbe-419c-89d9-26d7e97a74a9",
   "metadata": {},
   "outputs": [],
   "source": [
    "test_preds = gs.predict(X_test)"
   ]
  },
  {
   "cell_type": "code",
   "execution_count": 156,
   "id": "c608393c-8fbf-4530-be38-087ab74c6b28",
   "metadata": {},
   "outputs": [
    {
     "data": {
      "text/plain": [
       "0.6999404462211337"
      ]
     },
     "execution_count": 156,
     "metadata": {},
     "output_type": "execute_result"
    }
   ],
   "source": [
    "mean_squared_error(y_test, test_preds)"
   ]
  },
  {
   "cell_type": "code",
   "execution_count": 157,
   "id": "d0b20c71-d3f5-4342-a59d-ff1161869cc1",
   "metadata": {},
   "outputs": [
    {
     "data": {
      "text/plain": [
       "{'columntransformer__verbose': False,\n",
       " 'polynomialfeatures__degree': 3,\n",
       " 'polynomialfeatures__include_bias': True,\n",
       " 'polynomialfeatures__interaction_only': False}"
      ]
     },
     "execution_count": 157,
     "metadata": {},
     "output_type": "execute_result"
    }
   ],
   "source": [
    "gs.best_params_"
   ]
  },
  {
   "cell_type": "markdown",
   "id": "46d831ec-13f6-4a96-a3be-f2046e9fd7e6",
   "metadata": {},
   "source": [
    "**Ridge Regression**"
   ]
  },
  {
   "cell_type": "code",
   "execution_count": 193,
   "id": "b975cfe6-eb92-40a4-a03e-0ef0d13b0e58",
   "metadata": {},
   "outputs": [],
   "source": [
    "rr = Ridge()"
   ]
  },
  {
   "cell_type": "code",
   "execution_count": 194,
   "id": "c578af38-10f0-472a-a3f3-da2a352d744f",
   "metadata": {},
   "outputs": [],
   "source": [
    "pipe = make_pipeline(ct2, StandardScaler(), PolynomialFeatures(), rr)"
   ]
  },
  {
   "cell_type": "code",
   "execution_count": 195,
   "id": "ef4c3b43-6457-4acf-847a-960326b9ae03",
   "metadata": {},
   "outputs": [
    {
     "data": {
      "text/html": [
       "<style>#sk-87e924a7-1e1c-4327-abee-179edde0735d {color: black;background-color: white;}#sk-87e924a7-1e1c-4327-abee-179edde0735d pre{padding: 0;}#sk-87e924a7-1e1c-4327-abee-179edde0735d div.sk-toggleable {background-color: white;}#sk-87e924a7-1e1c-4327-abee-179edde0735d label.sk-toggleable__label {cursor: pointer;display: block;width: 100%;margin-bottom: 0;padding: 0.3em;box-sizing: border-box;text-align: center;}#sk-87e924a7-1e1c-4327-abee-179edde0735d div.sk-toggleable__content {max-height: 0;max-width: 0;overflow: hidden;text-align: left;background-color: #f0f8ff;}#sk-87e924a7-1e1c-4327-abee-179edde0735d div.sk-toggleable__content pre {margin: 0.2em;color: black;border-radius: 0.25em;background-color: #f0f8ff;}#sk-87e924a7-1e1c-4327-abee-179edde0735d input.sk-toggleable__control:checked~div.sk-toggleable__content {max-height: 200px;max-width: 100%;overflow: auto;}#sk-87e924a7-1e1c-4327-abee-179edde0735d div.sk-estimator input.sk-toggleable__control:checked~label.sk-toggleable__label {background-color: #d4ebff;}#sk-87e924a7-1e1c-4327-abee-179edde0735d div.sk-label input.sk-toggleable__control:checked~label.sk-toggleable__label {background-color: #d4ebff;}#sk-87e924a7-1e1c-4327-abee-179edde0735d input.sk-hidden--visually {border: 0;clip: rect(1px 1px 1px 1px);clip: rect(1px, 1px, 1px, 1px);height: 1px;margin: -1px;overflow: hidden;padding: 0;position: absolute;width: 1px;}#sk-87e924a7-1e1c-4327-abee-179edde0735d div.sk-estimator {font-family: monospace;background-color: #f0f8ff;border: 1px dotted black;border-radius: 0.25em;box-sizing: border-box;margin-bottom: 0.5em;}#sk-87e924a7-1e1c-4327-abee-179edde0735d div.sk-estimator:hover {background-color: #d4ebff;}#sk-87e924a7-1e1c-4327-abee-179edde0735d div.sk-parallel-item::after {content: \"\";width: 100%;border-bottom: 1px solid gray;flex-grow: 1;}#sk-87e924a7-1e1c-4327-abee-179edde0735d div.sk-label:hover label.sk-toggleable__label {background-color: #d4ebff;}#sk-87e924a7-1e1c-4327-abee-179edde0735d div.sk-serial::before {content: \"\";position: absolute;border-left: 1px solid gray;box-sizing: border-box;top: 2em;bottom: 0;left: 50%;}#sk-87e924a7-1e1c-4327-abee-179edde0735d div.sk-serial {display: flex;flex-direction: column;align-items: center;background-color: white;padding-right: 0.2em;padding-left: 0.2em;}#sk-87e924a7-1e1c-4327-abee-179edde0735d div.sk-item {z-index: 1;}#sk-87e924a7-1e1c-4327-abee-179edde0735d div.sk-parallel {display: flex;align-items: stretch;justify-content: center;background-color: white;}#sk-87e924a7-1e1c-4327-abee-179edde0735d div.sk-parallel::before {content: \"\";position: absolute;border-left: 1px solid gray;box-sizing: border-box;top: 2em;bottom: 0;left: 50%;}#sk-87e924a7-1e1c-4327-abee-179edde0735d div.sk-parallel-item {display: flex;flex-direction: column;position: relative;background-color: white;}#sk-87e924a7-1e1c-4327-abee-179edde0735d div.sk-parallel-item:first-child::after {align-self: flex-end;width: 50%;}#sk-87e924a7-1e1c-4327-abee-179edde0735d div.sk-parallel-item:last-child::after {align-self: flex-start;width: 50%;}#sk-87e924a7-1e1c-4327-abee-179edde0735d div.sk-parallel-item:only-child::after {width: 0;}#sk-87e924a7-1e1c-4327-abee-179edde0735d div.sk-dashed-wrapped {border: 1px dashed gray;margin: 0 0.4em 0.5em 0.4em;box-sizing: border-box;padding-bottom: 0.4em;background-color: white;position: relative;}#sk-87e924a7-1e1c-4327-abee-179edde0735d div.sk-label label {font-family: monospace;font-weight: bold;background-color: white;display: inline-block;line-height: 1.2em;}#sk-87e924a7-1e1c-4327-abee-179edde0735d div.sk-label-container {position: relative;z-index: 2;text-align: center;}#sk-87e924a7-1e1c-4327-abee-179edde0735d div.sk-container {display: inline-block;position: relative;}</style><div id=\"sk-87e924a7-1e1c-4327-abee-179edde0735d\" class\"sk-top-container\"><div class=\"sk-container\"><div class=\"sk-item sk-dashed-wrapped\"><div class=\"sk-label-container\"><div class=\"sk-label sk-toggleable\"><input class=\"sk-toggleable__control sk-hidden--visually\" id=\"ad7b1806-a788-4163-a527-69967b6aff82\" type=\"checkbox\" ><label class=\"sk-toggleable__label\" for=\"ad7b1806-a788-4163-a527-69967b6aff82\">Pipeline</label><div class=\"sk-toggleable__content\"><pre>Pipeline(steps=[('columntransformer',\n",
       "                 ColumnTransformer(remainder='passthrough',\n",
       "                                   transformers=[('onehotencoder',\n",
       "                                                  OneHotEncoder(handle_unknown='ignore',\n",
       "                                                                sparse=False),\n",
       "                                                  ['park'])])),\n",
       "                ('standardscaler', StandardScaler()),\n",
       "                ('polynomialfeatures', PolynomialFeatures()),\n",
       "                ('ridge', Ridge())])</pre></div></div></div><div class=\"sk-serial\"><div class=\"sk-item sk-dashed-wrapped\"><div class=\"sk-label-container\"><div class=\"sk-label sk-toggleable\"><input class=\"sk-toggleable__control sk-hidden--visually\" id=\"0460f54e-c2c3-4d63-8a95-a79ffbb63d3e\" type=\"checkbox\" ><label class=\"sk-toggleable__label\" for=\"0460f54e-c2c3-4d63-8a95-a79ffbb63d3e\">columntransformer: ColumnTransformer</label><div class=\"sk-toggleable__content\"><pre>ColumnTransformer(remainder='passthrough',\n",
       "                  transformers=[('onehotencoder',\n",
       "                                 OneHotEncoder(handle_unknown='ignore',\n",
       "                                               sparse=False),\n",
       "                                 ['park'])])</pre></div></div></div><div class=\"sk-parallel\"><div class=\"sk-parallel-item\"><div class=\"sk-item\"><div class=\"sk-label-container\"><div class=\"sk-label sk-toggleable\"><input class=\"sk-toggleable__control sk-hidden--visually\" id=\"2459ab16-f9cb-4977-b16e-29dcb51c8703\" type=\"checkbox\" ><label class=\"sk-toggleable__label\" for=\"2459ab16-f9cb-4977-b16e-29dcb51c8703\">onehotencoder</label><div class=\"sk-toggleable__content\"><pre>['park']</pre></div></div></div><div class=\"sk-serial\"><div class=\"sk-item\"><div class=\"sk-estimator sk-toggleable\"><input class=\"sk-toggleable__control sk-hidden--visually\" id=\"c7a38e45-242f-4da8-8704-a30348887241\" type=\"checkbox\" ><label class=\"sk-toggleable__label\" for=\"c7a38e45-242f-4da8-8704-a30348887241\">OneHotEncoder</label><div class=\"sk-toggleable__content\"><pre>OneHotEncoder(handle_unknown='ignore', sparse=False)</pre></div></div></div></div></div></div><div class=\"sk-parallel-item\"><div class=\"sk-item\"><div class=\"sk-label-container\"><div class=\"sk-label sk-toggleable\"><input class=\"sk-toggleable__control sk-hidden--visually\" id=\"a65a8867-3e7f-4af3-9014-3e26f660df71\" type=\"checkbox\" ><label class=\"sk-toggleable__label\" for=\"a65a8867-3e7f-4af3-9014-3e26f660df71\">remainder</label><div class=\"sk-toggleable__content\"><pre>['text_word_count', 'subjectivity', 'tb_polarity', 'vs_polarity']</pre></div></div></div><div class=\"sk-serial\"><div class=\"sk-item\"><div class=\"sk-estimator sk-toggleable\"><input class=\"sk-toggleable__control sk-hidden--visually\" id=\"551bd8df-9b3b-43d4-b42d-6edb625079ce\" type=\"checkbox\" ><label class=\"sk-toggleable__label\" for=\"551bd8df-9b3b-43d4-b42d-6edb625079ce\">passthrough</label><div class=\"sk-toggleable__content\"><pre>passthrough</pre></div></div></div></div></div></div></div></div><div class=\"sk-item\"><div class=\"sk-estimator sk-toggleable\"><input class=\"sk-toggleable__control sk-hidden--visually\" id=\"a4e8186f-f9fd-4467-80af-d696c54d2e53\" type=\"checkbox\" ><label class=\"sk-toggleable__label\" for=\"a4e8186f-f9fd-4467-80af-d696c54d2e53\">StandardScaler</label><div class=\"sk-toggleable__content\"><pre>StandardScaler()</pre></div></div></div><div class=\"sk-item\"><div class=\"sk-estimator sk-toggleable\"><input class=\"sk-toggleable__control sk-hidden--visually\" id=\"271dc7b1-1511-4713-b8b4-825034ab4a1c\" type=\"checkbox\" ><label class=\"sk-toggleable__label\" for=\"271dc7b1-1511-4713-b8b4-825034ab4a1c\">PolynomialFeatures</label><div class=\"sk-toggleable__content\"><pre>PolynomialFeatures()</pre></div></div></div><div class=\"sk-item\"><div class=\"sk-estimator sk-toggleable\"><input class=\"sk-toggleable__control sk-hidden--visually\" id=\"5c55c6a3-5456-4e56-af2b-a5913a211839\" type=\"checkbox\" ><label class=\"sk-toggleable__label\" for=\"5c55c6a3-5456-4e56-af2b-a5913a211839\">Ridge</label><div class=\"sk-toggleable__content\"><pre>Ridge()</pre></div></div></div></div></div></div></div>"
      ],
      "text/plain": [
       "Pipeline(steps=[('columntransformer',\n",
       "                 ColumnTransformer(remainder='passthrough',\n",
       "                                   transformers=[('onehotencoder',\n",
       "                                                  OneHotEncoder(handle_unknown='ignore',\n",
       "                                                                sparse=False),\n",
       "                                                  ['park'])])),\n",
       "                ('standardscaler', StandardScaler()),\n",
       "                ('polynomialfeatures', PolynomialFeatures()),\n",
       "                ('ridge', Ridge())])"
      ]
     },
     "execution_count": 195,
     "metadata": {},
     "output_type": "execute_result"
    }
   ],
   "source": [
    "pipe.fit(X_train, y_train)"
   ]
  },
  {
   "cell_type": "code",
   "execution_count": 196,
   "id": "0d0858e9-52e6-456d-94e6-62cacad1b152",
   "metadata": {},
   "outputs": [],
   "source": [
    "preds = pipe.predict(X_test)"
   ]
  },
  {
   "cell_type": "code",
   "execution_count": 197,
   "id": "7ec694b7-40af-433d-8540-3b15e7f83fca",
   "metadata": {},
   "outputs": [
    {
     "data": {
      "text/plain": [
       "0.3631572677976611"
      ]
     },
     "execution_count": 197,
     "metadata": {},
     "output_type": "execute_result"
    }
   ],
   "source": [
    "pipe.score(X_test, y_test)"
   ]
  },
  {
   "cell_type": "code",
   "execution_count": 198,
   "id": "96a496d6-0dd0-4f9a-86d8-a4e8d34bcae3",
   "metadata": {},
   "outputs": [
    {
     "data": {
      "text/plain": [
       "0.7202864377705525"
      ]
     },
     "execution_count": 198,
     "metadata": {},
     "output_type": "execute_result"
    }
   ],
   "source": [
    "mean_squared_error(y_test, preds)"
   ]
  },
  {
   "cell_type": "code",
   "execution_count": 199,
   "id": "fd512567-1cb5-4188-afda-20b439ad1c0c",
   "metadata": {},
   "outputs": [
    {
     "data": {
      "text/plain": [
       "{'memory': None,\n",
       " 'steps': [('columntransformer',\n",
       "   ColumnTransformer(remainder='passthrough',\n",
       "                     transformers=[('onehotencoder',\n",
       "                                    OneHotEncoder(handle_unknown='ignore',\n",
       "                                                  sparse=False),\n",
       "                                    ['park'])])),\n",
       "  ('standardscaler', StandardScaler()),\n",
       "  ('polynomialfeatures', PolynomialFeatures()),\n",
       "  ('ridge', Ridge())],\n",
       " 'verbose': False,\n",
       " 'columntransformer': ColumnTransformer(remainder='passthrough',\n",
       "                   transformers=[('onehotencoder',\n",
       "                                  OneHotEncoder(handle_unknown='ignore',\n",
       "                                                sparse=False),\n",
       "                                  ['park'])]),\n",
       " 'standardscaler': StandardScaler(),\n",
       " 'polynomialfeatures': PolynomialFeatures(),\n",
       " 'ridge': Ridge(),\n",
       " 'columntransformer__n_jobs': None,\n",
       " 'columntransformer__remainder': 'passthrough',\n",
       " 'columntransformer__sparse_threshold': 0.3,\n",
       " 'columntransformer__transformer_weights': None,\n",
       " 'columntransformer__transformers': [('onehotencoder',\n",
       "   OneHotEncoder(handle_unknown='ignore', sparse=False),\n",
       "   ['park'])],\n",
       " 'columntransformer__verbose': False,\n",
       " 'columntransformer__verbose_feature_names_out': True,\n",
       " 'columntransformer__onehotencoder': OneHotEncoder(handle_unknown='ignore', sparse=False),\n",
       " 'columntransformer__onehotencoder__categories': 'auto',\n",
       " 'columntransformer__onehotencoder__drop': None,\n",
       " 'columntransformer__onehotencoder__dtype': numpy.float64,\n",
       " 'columntransformer__onehotencoder__handle_unknown': 'ignore',\n",
       " 'columntransformer__onehotencoder__sparse': False,\n",
       " 'standardscaler__copy': True,\n",
       " 'standardscaler__with_mean': True,\n",
       " 'standardscaler__with_std': True,\n",
       " 'polynomialfeatures__degree': 2,\n",
       " 'polynomialfeatures__include_bias': True,\n",
       " 'polynomialfeatures__interaction_only': False,\n",
       " 'polynomialfeatures__order': 'C',\n",
       " 'ridge__alpha': 1.0,\n",
       " 'ridge__copy_X': True,\n",
       " 'ridge__fit_intercept': True,\n",
       " 'ridge__max_iter': None,\n",
       " 'ridge__normalize': 'deprecated',\n",
       " 'ridge__positive': False,\n",
       " 'ridge__random_state': None,\n",
       " 'ridge__solver': 'auto',\n",
       " 'ridge__tol': 0.001}"
      ]
     },
     "execution_count": 199,
     "metadata": {},
     "output_type": "execute_result"
    }
   ],
   "source": [
    "pipe.get_params()"
   ]
  },
  {
   "cell_type": "code",
   "execution_count": 200,
   "id": "61fb5b8f-b376-4d4f-9203-8161200b32a9",
   "metadata": {},
   "outputs": [],
   "source": [
    "params = {'polynomialfeatures__degree': [1,2,3,4,5], \n",
    "          'ridge__alpha' : [.01, .1, 1, 10, 100],\n",
    "          'polynomialfeatures__include_bias': [True, False]\n",
    "         }"
   ]
  },
  {
   "cell_type": "code",
   "execution_count": 201,
   "id": "137119ae-48a5-4594-aae3-8d1aacb6138c",
   "metadata": {},
   "outputs": [
    {
     "name": "stderr",
     "output_type": "stream",
     "text": [
      "/Users/olivialara/opt/anaconda3/envs/nlp/lib/python3.9/site-packages/sklearn/linear_model/_ridge.py:156: LinAlgWarning: Ill-conditioned matrix (rcond=3.34138e-17): result may not be accurate.\n",
      "  return linalg.solve(A, Xy, sym_pos=True, overwrite_a=True).T\n",
      "/Users/olivialara/opt/anaconda3/envs/nlp/lib/python3.9/site-packages/sklearn/linear_model/_ridge.py:156: LinAlgWarning: Ill-conditioned matrix (rcond=3.74968e-17): result may not be accurate.\n",
      "  return linalg.solve(A, Xy, sym_pos=True, overwrite_a=True).T\n",
      "/Users/olivialara/opt/anaconda3/envs/nlp/lib/python3.9/site-packages/sklearn/linear_model/_ridge.py:156: LinAlgWarning: Ill-conditioned matrix (rcond=3.8679e-17): result may not be accurate.\n",
      "  return linalg.solve(A, Xy, sym_pos=True, overwrite_a=True).T\n",
      "/Users/olivialara/opt/anaconda3/envs/nlp/lib/python3.9/site-packages/sklearn/linear_model/_ridge.py:156: LinAlgWarning: Ill-conditioned matrix (rcond=7.80033e-17): result may not be accurate.\n",
      "  return linalg.solve(A, Xy, sym_pos=True, overwrite_a=True).T\n",
      "/Users/olivialara/opt/anaconda3/envs/nlp/lib/python3.9/site-packages/sklearn/linear_model/_ridge.py:156: LinAlgWarning: Ill-conditioned matrix (rcond=3.36009e-17): result may not be accurate.\n",
      "  return linalg.solve(A, Xy, sym_pos=True, overwrite_a=True).T\n",
      "/Users/olivialara/opt/anaconda3/envs/nlp/lib/python3.9/site-packages/sklearn/linear_model/_ridge.py:156: LinAlgWarning: Ill-conditioned matrix (rcond=3.74968e-17): result may not be accurate.\n",
      "  return linalg.solve(A, Xy, sym_pos=True, overwrite_a=True).T\n",
      "/Users/olivialara/opt/anaconda3/envs/nlp/lib/python3.9/site-packages/sklearn/linear_model/_ridge.py:156: LinAlgWarning: Ill-conditioned matrix (rcond=2.92473e-17): result may not be accurate.\n",
      "  return linalg.solve(A, Xy, sym_pos=True, overwrite_a=True).T\n",
      "/Users/olivialara/opt/anaconda3/envs/nlp/lib/python3.9/site-packages/sklearn/linear_model/_ridge.py:156: LinAlgWarning: Ill-conditioned matrix (rcond=7.80033e-17): result may not be accurate.\n",
      "  return linalg.solve(A, Xy, sym_pos=True, overwrite_a=True).T\n",
      "/Users/olivialara/opt/anaconda3/envs/nlp/lib/python3.9/site-packages/sklearn/linear_model/_ridge.py:156: LinAlgWarning: Ill-conditioned matrix (rcond=2.4869e-17): result may not be accurate.\n",
      "  return linalg.solve(A, Xy, sym_pos=True, overwrite_a=True).T\n",
      "/Users/olivialara/opt/anaconda3/envs/nlp/lib/python3.9/site-packages/sklearn/linear_model/_ridge.py:156: LinAlgWarning: Ill-conditioned matrix (rcond=3.34125e-17): result may not be accurate.\n",
      "  return linalg.solve(A, Xy, sym_pos=True, overwrite_a=True).T\n"
     ]
    },
    {
     "data": {
      "text/html": [
       "<style>#sk-e3ed52fd-7026-4862-8e4d-9534b6d12e4c {color: black;background-color: white;}#sk-e3ed52fd-7026-4862-8e4d-9534b6d12e4c pre{padding: 0;}#sk-e3ed52fd-7026-4862-8e4d-9534b6d12e4c div.sk-toggleable {background-color: white;}#sk-e3ed52fd-7026-4862-8e4d-9534b6d12e4c label.sk-toggleable__label {cursor: pointer;display: block;width: 100%;margin-bottom: 0;padding: 0.3em;box-sizing: border-box;text-align: center;}#sk-e3ed52fd-7026-4862-8e4d-9534b6d12e4c div.sk-toggleable__content {max-height: 0;max-width: 0;overflow: hidden;text-align: left;background-color: #f0f8ff;}#sk-e3ed52fd-7026-4862-8e4d-9534b6d12e4c div.sk-toggleable__content pre {margin: 0.2em;color: black;border-radius: 0.25em;background-color: #f0f8ff;}#sk-e3ed52fd-7026-4862-8e4d-9534b6d12e4c input.sk-toggleable__control:checked~div.sk-toggleable__content {max-height: 200px;max-width: 100%;overflow: auto;}#sk-e3ed52fd-7026-4862-8e4d-9534b6d12e4c div.sk-estimator input.sk-toggleable__control:checked~label.sk-toggleable__label {background-color: #d4ebff;}#sk-e3ed52fd-7026-4862-8e4d-9534b6d12e4c div.sk-label input.sk-toggleable__control:checked~label.sk-toggleable__label {background-color: #d4ebff;}#sk-e3ed52fd-7026-4862-8e4d-9534b6d12e4c input.sk-hidden--visually {border: 0;clip: rect(1px 1px 1px 1px);clip: rect(1px, 1px, 1px, 1px);height: 1px;margin: -1px;overflow: hidden;padding: 0;position: absolute;width: 1px;}#sk-e3ed52fd-7026-4862-8e4d-9534b6d12e4c div.sk-estimator {font-family: monospace;background-color: #f0f8ff;border: 1px dotted black;border-radius: 0.25em;box-sizing: border-box;margin-bottom: 0.5em;}#sk-e3ed52fd-7026-4862-8e4d-9534b6d12e4c div.sk-estimator:hover {background-color: #d4ebff;}#sk-e3ed52fd-7026-4862-8e4d-9534b6d12e4c div.sk-parallel-item::after {content: \"\";width: 100%;border-bottom: 1px solid gray;flex-grow: 1;}#sk-e3ed52fd-7026-4862-8e4d-9534b6d12e4c div.sk-label:hover label.sk-toggleable__label {background-color: #d4ebff;}#sk-e3ed52fd-7026-4862-8e4d-9534b6d12e4c div.sk-serial::before {content: \"\";position: absolute;border-left: 1px solid gray;box-sizing: border-box;top: 2em;bottom: 0;left: 50%;}#sk-e3ed52fd-7026-4862-8e4d-9534b6d12e4c div.sk-serial {display: flex;flex-direction: column;align-items: center;background-color: white;padding-right: 0.2em;padding-left: 0.2em;}#sk-e3ed52fd-7026-4862-8e4d-9534b6d12e4c div.sk-item {z-index: 1;}#sk-e3ed52fd-7026-4862-8e4d-9534b6d12e4c div.sk-parallel {display: flex;align-items: stretch;justify-content: center;background-color: white;}#sk-e3ed52fd-7026-4862-8e4d-9534b6d12e4c div.sk-parallel::before {content: \"\";position: absolute;border-left: 1px solid gray;box-sizing: border-box;top: 2em;bottom: 0;left: 50%;}#sk-e3ed52fd-7026-4862-8e4d-9534b6d12e4c div.sk-parallel-item {display: flex;flex-direction: column;position: relative;background-color: white;}#sk-e3ed52fd-7026-4862-8e4d-9534b6d12e4c div.sk-parallel-item:first-child::after {align-self: flex-end;width: 50%;}#sk-e3ed52fd-7026-4862-8e4d-9534b6d12e4c div.sk-parallel-item:last-child::after {align-self: flex-start;width: 50%;}#sk-e3ed52fd-7026-4862-8e4d-9534b6d12e4c div.sk-parallel-item:only-child::after {width: 0;}#sk-e3ed52fd-7026-4862-8e4d-9534b6d12e4c div.sk-dashed-wrapped {border: 1px dashed gray;margin: 0 0.4em 0.5em 0.4em;box-sizing: border-box;padding-bottom: 0.4em;background-color: white;position: relative;}#sk-e3ed52fd-7026-4862-8e4d-9534b6d12e4c div.sk-label label {font-family: monospace;font-weight: bold;background-color: white;display: inline-block;line-height: 1.2em;}#sk-e3ed52fd-7026-4862-8e4d-9534b6d12e4c div.sk-label-container {position: relative;z-index: 2;text-align: center;}#sk-e3ed52fd-7026-4862-8e4d-9534b6d12e4c div.sk-container {display: inline-block;position: relative;}</style><div id=\"sk-e3ed52fd-7026-4862-8e4d-9534b6d12e4c\" class\"sk-top-container\"><div class=\"sk-container\"><div class=\"sk-item sk-dashed-wrapped\"><div class=\"sk-label-container\"><div class=\"sk-label sk-toggleable\"><input class=\"sk-toggleable__control sk-hidden--visually\" id=\"4395fc9b-e687-48cf-a6c6-1add0f9f9c42\" type=\"checkbox\" ><label class=\"sk-toggleable__label\" for=\"4395fc9b-e687-48cf-a6c6-1add0f9f9c42\">GridSearchCV</label><div class=\"sk-toggleable__content\"><pre>GridSearchCV(estimator=Pipeline(steps=[('columntransformer',\n",
       "                                        ColumnTransformer(remainder='passthrough',\n",
       "                                                          transformers=[('onehotencoder',\n",
       "                                                                         OneHotEncoder(handle_unknown='ignore',\n",
       "                                                                                       sparse=False),\n",
       "                                                                         ['park'])])),\n",
       "                                       ('standardscaler', StandardScaler()),\n",
       "                                       ('polynomialfeatures',\n",
       "                                        PolynomialFeatures()),\n",
       "                                       ('ridge', Ridge())]),\n",
       "             n_jobs=-1,\n",
       "             param_grid={'polynomialfeatures__degree': [1, 2, 3, 4, 5],\n",
       "                         'polynomialfeatures__include_bias': [True, False],\n",
       "                         'ridge__alpha': [0.01, 0.1, 1, 10, 100]})</pre></div></div></div><div class=\"sk-parallel\"><div class=\"sk-parallel-item\"><div class=\"sk-item\"><div class=\"sk-serial\"><div class=\"sk-item\"><div class=\"sk-serial\"><div class=\"sk-item sk-dashed-wrapped\"><div class=\"sk-label-container\"><div class=\"sk-label sk-toggleable\"><input class=\"sk-toggleable__control sk-hidden--visually\" id=\"e48bdb25-1174-44f6-a263-5852c4595032\" type=\"checkbox\" ><label class=\"sk-toggleable__label\" for=\"e48bdb25-1174-44f6-a263-5852c4595032\">columntransformer: ColumnTransformer</label><div class=\"sk-toggleable__content\"><pre>ColumnTransformer(remainder='passthrough',\n",
       "                  transformers=[('onehotencoder',\n",
       "                                 OneHotEncoder(handle_unknown='ignore',\n",
       "                                               sparse=False),\n",
       "                                 ['park'])])</pre></div></div></div><div class=\"sk-parallel\"><div class=\"sk-parallel-item\"><div class=\"sk-item\"><div class=\"sk-label-container\"><div class=\"sk-label sk-toggleable\"><input class=\"sk-toggleable__control sk-hidden--visually\" id=\"f8eab110-cba2-4a05-975e-e4dff9c17195\" type=\"checkbox\" ><label class=\"sk-toggleable__label\" for=\"f8eab110-cba2-4a05-975e-e4dff9c17195\">onehotencoder</label><div class=\"sk-toggleable__content\"><pre>['park']</pre></div></div></div><div class=\"sk-serial\"><div class=\"sk-item\"><div class=\"sk-estimator sk-toggleable\"><input class=\"sk-toggleable__control sk-hidden--visually\" id=\"5bc8fa17-8110-4a58-b735-3e59cb7cc39c\" type=\"checkbox\" ><label class=\"sk-toggleable__label\" for=\"5bc8fa17-8110-4a58-b735-3e59cb7cc39c\">OneHotEncoder</label><div class=\"sk-toggleable__content\"><pre>OneHotEncoder(handle_unknown='ignore', sparse=False)</pre></div></div></div></div></div></div><div class=\"sk-parallel-item\"><div class=\"sk-item\"><div class=\"sk-label-container\"><div class=\"sk-label sk-toggleable\"><input class=\"sk-toggleable__control sk-hidden--visually\" id=\"b3996a1f-2c3c-4048-a5c7-ffc6084a2091\" type=\"checkbox\" ><label class=\"sk-toggleable__label\" for=\"b3996a1f-2c3c-4048-a5c7-ffc6084a2091\">remainder</label><div class=\"sk-toggleable__content\"><pre>['text_word_count', 'subjectivity', 'tb_polarity', 'vs_polarity']</pre></div></div></div><div class=\"sk-serial\"><div class=\"sk-item\"><div class=\"sk-estimator sk-toggleable\"><input class=\"sk-toggleable__control sk-hidden--visually\" id=\"4be74515-0180-427d-a17e-16c99a08abee\" type=\"checkbox\" ><label class=\"sk-toggleable__label\" for=\"4be74515-0180-427d-a17e-16c99a08abee\">passthrough</label><div class=\"sk-toggleable__content\"><pre>passthrough</pre></div></div></div></div></div></div></div></div><div class=\"sk-item\"><div class=\"sk-estimator sk-toggleable\"><input class=\"sk-toggleable__control sk-hidden--visually\" id=\"62541904-60af-4b7c-8064-1968cb57a386\" type=\"checkbox\" ><label class=\"sk-toggleable__label\" for=\"62541904-60af-4b7c-8064-1968cb57a386\">StandardScaler</label><div class=\"sk-toggleable__content\"><pre>StandardScaler()</pre></div></div></div><div class=\"sk-item\"><div class=\"sk-estimator sk-toggleable\"><input class=\"sk-toggleable__control sk-hidden--visually\" id=\"eafc1f63-5e63-43fe-b189-3a527d66a85a\" type=\"checkbox\" ><label class=\"sk-toggleable__label\" for=\"eafc1f63-5e63-43fe-b189-3a527d66a85a\">PolynomialFeatures</label><div class=\"sk-toggleable__content\"><pre>PolynomialFeatures()</pre></div></div></div><div class=\"sk-item\"><div class=\"sk-estimator sk-toggleable\"><input class=\"sk-toggleable__control sk-hidden--visually\" id=\"9b010bba-3378-46bd-bf01-f626a8b02dc2\" type=\"checkbox\" ><label class=\"sk-toggleable__label\" for=\"9b010bba-3378-46bd-bf01-f626a8b02dc2\">Ridge</label><div class=\"sk-toggleable__content\"><pre>Ridge()</pre></div></div></div></div></div></div></div></div></div></div></div></div>"
      ],
      "text/plain": [
       "GridSearchCV(estimator=Pipeline(steps=[('columntransformer',\n",
       "                                        ColumnTransformer(remainder='passthrough',\n",
       "                                                          transformers=[('onehotencoder',\n",
       "                                                                         OneHotEncoder(handle_unknown='ignore',\n",
       "                                                                                       sparse=False),\n",
       "                                                                         ['park'])])),\n",
       "                                       ('standardscaler', StandardScaler()),\n",
       "                                       ('polynomialfeatures',\n",
       "                                        PolynomialFeatures()),\n",
       "                                       ('ridge', Ridge())]),\n",
       "             n_jobs=-1,\n",
       "             param_grid={'polynomialfeatures__degree': [1, 2, 3, 4, 5],\n",
       "                         'polynomialfeatures__include_bias': [True, False],\n",
       "                         'ridge__alpha': [0.01, 0.1, 1, 10, 100]})"
      ]
     },
     "execution_count": 201,
     "metadata": {},
     "output_type": "execute_result"
    }
   ],
   "source": [
    "gs = GridSearchCV(pipe, params, n_jobs =-1)\n",
    "gs.fit(X_train,y_train)"
   ]
  },
  {
   "cell_type": "code",
   "execution_count": 202,
   "id": "47363c43-79bb-4e17-b3f7-dfddde4231eb",
   "metadata": {},
   "outputs": [
    {
     "data": {
      "text/plain": [
       "0.3808846116254826"
      ]
     },
     "execution_count": 202,
     "metadata": {},
     "output_type": "execute_result"
    }
   ],
   "source": [
    "gs.score(X_test, y_test)"
   ]
  },
  {
   "cell_type": "code",
   "execution_count": 203,
   "id": "3b181c87-ae7f-4b5b-b0f4-5457319721a7",
   "metadata": {},
   "outputs": [
    {
     "data": {
      "text/plain": [
       "0.7202864377705525"
      ]
     },
     "execution_count": 203,
     "metadata": {},
     "output_type": "execute_result"
    }
   ],
   "source": [
    "mean_squared_error(y_test, preds)"
   ]
  },
  {
   "cell_type": "markdown",
   "id": "ee1583e6-f6b2-424a-961c-98889ce85458",
   "metadata": {},
   "source": [
    "**Lasso Regression**"
   ]
  },
  {
   "cell_type": "code",
   "execution_count": 175,
   "id": "d66354d5-c151-49d9-b3a0-c93405716863",
   "metadata": {},
   "outputs": [],
   "source": [
    "lr = Lasso()"
   ]
  },
  {
   "cell_type": "code",
   "execution_count": 176,
   "id": "0e6ca8c7-d8c1-4659-99b9-d95bc3140c5f",
   "metadata": {},
   "outputs": [],
   "source": [
    "pipe = make_pipeline(ct2, StandardScaler(), PolynomialFeatures(), lr)"
   ]
  },
  {
   "cell_type": "code",
   "execution_count": 177,
   "id": "6ed04f4f-13c2-4c94-8dcb-8df9c7181388",
   "metadata": {},
   "outputs": [
    {
     "data": {
      "text/html": [
       "<style>#sk-ee9d4556-0fbe-4ce4-a534-b6f245463ca3 {color: black;background-color: white;}#sk-ee9d4556-0fbe-4ce4-a534-b6f245463ca3 pre{padding: 0;}#sk-ee9d4556-0fbe-4ce4-a534-b6f245463ca3 div.sk-toggleable {background-color: white;}#sk-ee9d4556-0fbe-4ce4-a534-b6f245463ca3 label.sk-toggleable__label {cursor: pointer;display: block;width: 100%;margin-bottom: 0;padding: 0.3em;box-sizing: border-box;text-align: center;}#sk-ee9d4556-0fbe-4ce4-a534-b6f245463ca3 div.sk-toggleable__content {max-height: 0;max-width: 0;overflow: hidden;text-align: left;background-color: #f0f8ff;}#sk-ee9d4556-0fbe-4ce4-a534-b6f245463ca3 div.sk-toggleable__content pre {margin: 0.2em;color: black;border-radius: 0.25em;background-color: #f0f8ff;}#sk-ee9d4556-0fbe-4ce4-a534-b6f245463ca3 input.sk-toggleable__control:checked~div.sk-toggleable__content {max-height: 200px;max-width: 100%;overflow: auto;}#sk-ee9d4556-0fbe-4ce4-a534-b6f245463ca3 div.sk-estimator input.sk-toggleable__control:checked~label.sk-toggleable__label {background-color: #d4ebff;}#sk-ee9d4556-0fbe-4ce4-a534-b6f245463ca3 div.sk-label input.sk-toggleable__control:checked~label.sk-toggleable__label {background-color: #d4ebff;}#sk-ee9d4556-0fbe-4ce4-a534-b6f245463ca3 input.sk-hidden--visually {border: 0;clip: rect(1px 1px 1px 1px);clip: rect(1px, 1px, 1px, 1px);height: 1px;margin: -1px;overflow: hidden;padding: 0;position: absolute;width: 1px;}#sk-ee9d4556-0fbe-4ce4-a534-b6f245463ca3 div.sk-estimator {font-family: monospace;background-color: #f0f8ff;border: 1px dotted black;border-radius: 0.25em;box-sizing: border-box;margin-bottom: 0.5em;}#sk-ee9d4556-0fbe-4ce4-a534-b6f245463ca3 div.sk-estimator:hover {background-color: #d4ebff;}#sk-ee9d4556-0fbe-4ce4-a534-b6f245463ca3 div.sk-parallel-item::after {content: \"\";width: 100%;border-bottom: 1px solid gray;flex-grow: 1;}#sk-ee9d4556-0fbe-4ce4-a534-b6f245463ca3 div.sk-label:hover label.sk-toggleable__label {background-color: #d4ebff;}#sk-ee9d4556-0fbe-4ce4-a534-b6f245463ca3 div.sk-serial::before {content: \"\";position: absolute;border-left: 1px solid gray;box-sizing: border-box;top: 2em;bottom: 0;left: 50%;}#sk-ee9d4556-0fbe-4ce4-a534-b6f245463ca3 div.sk-serial {display: flex;flex-direction: column;align-items: center;background-color: white;padding-right: 0.2em;padding-left: 0.2em;}#sk-ee9d4556-0fbe-4ce4-a534-b6f245463ca3 div.sk-item {z-index: 1;}#sk-ee9d4556-0fbe-4ce4-a534-b6f245463ca3 div.sk-parallel {display: flex;align-items: stretch;justify-content: center;background-color: white;}#sk-ee9d4556-0fbe-4ce4-a534-b6f245463ca3 div.sk-parallel::before {content: \"\";position: absolute;border-left: 1px solid gray;box-sizing: border-box;top: 2em;bottom: 0;left: 50%;}#sk-ee9d4556-0fbe-4ce4-a534-b6f245463ca3 div.sk-parallel-item {display: flex;flex-direction: column;position: relative;background-color: white;}#sk-ee9d4556-0fbe-4ce4-a534-b6f245463ca3 div.sk-parallel-item:first-child::after {align-self: flex-end;width: 50%;}#sk-ee9d4556-0fbe-4ce4-a534-b6f245463ca3 div.sk-parallel-item:last-child::after {align-self: flex-start;width: 50%;}#sk-ee9d4556-0fbe-4ce4-a534-b6f245463ca3 div.sk-parallel-item:only-child::after {width: 0;}#sk-ee9d4556-0fbe-4ce4-a534-b6f245463ca3 div.sk-dashed-wrapped {border: 1px dashed gray;margin: 0 0.4em 0.5em 0.4em;box-sizing: border-box;padding-bottom: 0.4em;background-color: white;position: relative;}#sk-ee9d4556-0fbe-4ce4-a534-b6f245463ca3 div.sk-label label {font-family: monospace;font-weight: bold;background-color: white;display: inline-block;line-height: 1.2em;}#sk-ee9d4556-0fbe-4ce4-a534-b6f245463ca3 div.sk-label-container {position: relative;z-index: 2;text-align: center;}#sk-ee9d4556-0fbe-4ce4-a534-b6f245463ca3 div.sk-container {display: inline-block;position: relative;}</style><div id=\"sk-ee9d4556-0fbe-4ce4-a534-b6f245463ca3\" class\"sk-top-container\"><div class=\"sk-container\"><div class=\"sk-item sk-dashed-wrapped\"><div class=\"sk-label-container\"><div class=\"sk-label sk-toggleable\"><input class=\"sk-toggleable__control sk-hidden--visually\" id=\"b40bb3ee-e970-4d1f-93f0-e74d0f8d83c8\" type=\"checkbox\" ><label class=\"sk-toggleable__label\" for=\"b40bb3ee-e970-4d1f-93f0-e74d0f8d83c8\">Pipeline</label><div class=\"sk-toggleable__content\"><pre>Pipeline(steps=[('columntransformer',\n",
       "                 ColumnTransformer(remainder='passthrough',\n",
       "                                   transformers=[('onehotencoder',\n",
       "                                                  OneHotEncoder(handle_unknown='ignore',\n",
       "                                                                sparse=False),\n",
       "                                                  ['park'])])),\n",
       "                ('standardscaler', StandardScaler()),\n",
       "                ('polynomialfeatures', PolynomialFeatures()),\n",
       "                ('lasso', Lasso())])</pre></div></div></div><div class=\"sk-serial\"><div class=\"sk-item sk-dashed-wrapped\"><div class=\"sk-label-container\"><div class=\"sk-label sk-toggleable\"><input class=\"sk-toggleable__control sk-hidden--visually\" id=\"aa4404d7-2584-4373-8cd1-1fed22b8800a\" type=\"checkbox\" ><label class=\"sk-toggleable__label\" for=\"aa4404d7-2584-4373-8cd1-1fed22b8800a\">columntransformer: ColumnTransformer</label><div class=\"sk-toggleable__content\"><pre>ColumnTransformer(remainder='passthrough',\n",
       "                  transformers=[('onehotencoder',\n",
       "                                 OneHotEncoder(handle_unknown='ignore',\n",
       "                                               sparse=False),\n",
       "                                 ['park'])])</pre></div></div></div><div class=\"sk-parallel\"><div class=\"sk-parallel-item\"><div class=\"sk-item\"><div class=\"sk-label-container\"><div class=\"sk-label sk-toggleable\"><input class=\"sk-toggleable__control sk-hidden--visually\" id=\"3149501d-5bef-49a2-bb33-d69f4d36859e\" type=\"checkbox\" ><label class=\"sk-toggleable__label\" for=\"3149501d-5bef-49a2-bb33-d69f4d36859e\">onehotencoder</label><div class=\"sk-toggleable__content\"><pre>['park']</pre></div></div></div><div class=\"sk-serial\"><div class=\"sk-item\"><div class=\"sk-estimator sk-toggleable\"><input class=\"sk-toggleable__control sk-hidden--visually\" id=\"b38c148c-369f-4ef6-932e-c62a29f5f968\" type=\"checkbox\" ><label class=\"sk-toggleable__label\" for=\"b38c148c-369f-4ef6-932e-c62a29f5f968\">OneHotEncoder</label><div class=\"sk-toggleable__content\"><pre>OneHotEncoder(handle_unknown='ignore', sparse=False)</pre></div></div></div></div></div></div><div class=\"sk-parallel-item\"><div class=\"sk-item\"><div class=\"sk-label-container\"><div class=\"sk-label sk-toggleable\"><input class=\"sk-toggleable__control sk-hidden--visually\" id=\"c8aa0401-67b8-4704-917c-a1eac5e28526\" type=\"checkbox\" ><label class=\"sk-toggleable__label\" for=\"c8aa0401-67b8-4704-917c-a1eac5e28526\">remainder</label><div class=\"sk-toggleable__content\"><pre>['text_word_count', 'subjectivity', 'tb_polarity', 'vs_polarity']</pre></div></div></div><div class=\"sk-serial\"><div class=\"sk-item\"><div class=\"sk-estimator sk-toggleable\"><input class=\"sk-toggleable__control sk-hidden--visually\" id=\"1391728e-e3d2-4353-ae56-e36a4328f6c6\" type=\"checkbox\" ><label class=\"sk-toggleable__label\" for=\"1391728e-e3d2-4353-ae56-e36a4328f6c6\">passthrough</label><div class=\"sk-toggleable__content\"><pre>passthrough</pre></div></div></div></div></div></div></div></div><div class=\"sk-item\"><div class=\"sk-estimator sk-toggleable\"><input class=\"sk-toggleable__control sk-hidden--visually\" id=\"512bbcb6-3c60-4f54-b68d-ce783cddb1a2\" type=\"checkbox\" ><label class=\"sk-toggleable__label\" for=\"512bbcb6-3c60-4f54-b68d-ce783cddb1a2\">StandardScaler</label><div class=\"sk-toggleable__content\"><pre>StandardScaler()</pre></div></div></div><div class=\"sk-item\"><div class=\"sk-estimator sk-toggleable\"><input class=\"sk-toggleable__control sk-hidden--visually\" id=\"9c54b5c4-8980-4498-b846-d68b7b599dba\" type=\"checkbox\" ><label class=\"sk-toggleable__label\" for=\"9c54b5c4-8980-4498-b846-d68b7b599dba\">PolynomialFeatures</label><div class=\"sk-toggleable__content\"><pre>PolynomialFeatures()</pre></div></div></div><div class=\"sk-item\"><div class=\"sk-estimator sk-toggleable\"><input class=\"sk-toggleable__control sk-hidden--visually\" id=\"55d930d4-4f2c-477d-8428-9d7abe8dda41\" type=\"checkbox\" ><label class=\"sk-toggleable__label\" for=\"55d930d4-4f2c-477d-8428-9d7abe8dda41\">Lasso</label><div class=\"sk-toggleable__content\"><pre>Lasso()</pre></div></div></div></div></div></div></div>"
      ],
      "text/plain": [
       "Pipeline(steps=[('columntransformer',\n",
       "                 ColumnTransformer(remainder='passthrough',\n",
       "                                   transformers=[('onehotencoder',\n",
       "                                                  OneHotEncoder(handle_unknown='ignore',\n",
       "                                                                sparse=False),\n",
       "                                                  ['park'])])),\n",
       "                ('standardscaler', StandardScaler()),\n",
       "                ('polynomialfeatures', PolynomialFeatures()),\n",
       "                ('lasso', Lasso())])"
      ]
     },
     "execution_count": 177,
     "metadata": {},
     "output_type": "execute_result"
    }
   ],
   "source": [
    "pipe.fit(X_train, y_train)"
   ]
  },
  {
   "cell_type": "code",
   "execution_count": 178,
   "id": "9d1e5769-6057-41df-9a13-5c27bde42341",
   "metadata": {},
   "outputs": [],
   "source": [
    "preds = pipe.predict(X_test)"
   ]
  },
  {
   "cell_type": "code",
   "execution_count": 179,
   "id": "3815da33-b70b-4180-adfc-78931eabb9c5",
   "metadata": {},
   "outputs": [
    {
     "data": {
      "text/plain": [
       "0.019737974686332538"
      ]
     },
     "execution_count": 179,
     "metadata": {},
     "output_type": "execute_result"
    }
   ],
   "source": [
    "pipe.score(X_test, y_test)"
   ]
  },
  {
   "cell_type": "code",
   "execution_count": 180,
   "id": "aacc69c7-7207-4b2f-9cbf-c1d2fc693747",
   "metadata": {},
   "outputs": [
    {
     "data": {
      "text/plain": [
       "1.1087029914798414"
      ]
     },
     "execution_count": 180,
     "metadata": {},
     "output_type": "execute_result"
    }
   ],
   "source": [
    "mean_squared_error(y_test, preds)"
   ]
  },
  {
   "cell_type": "markdown",
   "id": "18f7b760-ed02-43e4-9954-5b53d7288714",
   "metadata": {},
   "source": [
    "This model did significantly worse than other models so we will not Grid Search for this one."
   ]
  },
  {
   "cell_type": "markdown",
   "id": "11b6da71-450e-4136-8a62-33d0cda84b79",
   "metadata": {},
   "source": [
    "**ElasticNet**"
   ]
  },
  {
   "cell_type": "code",
   "execution_count": 159,
   "id": "dc3ca829-3963-4a1a-8442-fc07e3e51495",
   "metadata": {},
   "outputs": [],
   "source": [
    "en = ElasticNet()"
   ]
  },
  {
   "cell_type": "code",
   "execution_count": 160,
   "id": "aa02138d-09aa-4f09-b593-b9c241028bf4",
   "metadata": {},
   "outputs": [],
   "source": [
    "pipe = make_pipeline(ct2, StandardScaler(), PolynomialFeatures(), en)"
   ]
  },
  {
   "cell_type": "code",
   "execution_count": 161,
   "id": "f47f26d9-c478-4df1-9c21-09e8d70911e5",
   "metadata": {},
   "outputs": [
    {
     "data": {
      "text/html": [
       "<style>#sk-f928e1a6-25fa-4bf9-885b-7c567bb6f0fd {color: black;background-color: white;}#sk-f928e1a6-25fa-4bf9-885b-7c567bb6f0fd pre{padding: 0;}#sk-f928e1a6-25fa-4bf9-885b-7c567bb6f0fd div.sk-toggleable {background-color: white;}#sk-f928e1a6-25fa-4bf9-885b-7c567bb6f0fd label.sk-toggleable__label {cursor: pointer;display: block;width: 100%;margin-bottom: 0;padding: 0.3em;box-sizing: border-box;text-align: center;}#sk-f928e1a6-25fa-4bf9-885b-7c567bb6f0fd div.sk-toggleable__content {max-height: 0;max-width: 0;overflow: hidden;text-align: left;background-color: #f0f8ff;}#sk-f928e1a6-25fa-4bf9-885b-7c567bb6f0fd div.sk-toggleable__content pre {margin: 0.2em;color: black;border-radius: 0.25em;background-color: #f0f8ff;}#sk-f928e1a6-25fa-4bf9-885b-7c567bb6f0fd input.sk-toggleable__control:checked~div.sk-toggleable__content {max-height: 200px;max-width: 100%;overflow: auto;}#sk-f928e1a6-25fa-4bf9-885b-7c567bb6f0fd div.sk-estimator input.sk-toggleable__control:checked~label.sk-toggleable__label {background-color: #d4ebff;}#sk-f928e1a6-25fa-4bf9-885b-7c567bb6f0fd div.sk-label input.sk-toggleable__control:checked~label.sk-toggleable__label {background-color: #d4ebff;}#sk-f928e1a6-25fa-4bf9-885b-7c567bb6f0fd input.sk-hidden--visually {border: 0;clip: rect(1px 1px 1px 1px);clip: rect(1px, 1px, 1px, 1px);height: 1px;margin: -1px;overflow: hidden;padding: 0;position: absolute;width: 1px;}#sk-f928e1a6-25fa-4bf9-885b-7c567bb6f0fd div.sk-estimator {font-family: monospace;background-color: #f0f8ff;border: 1px dotted black;border-radius: 0.25em;box-sizing: border-box;margin-bottom: 0.5em;}#sk-f928e1a6-25fa-4bf9-885b-7c567bb6f0fd div.sk-estimator:hover {background-color: #d4ebff;}#sk-f928e1a6-25fa-4bf9-885b-7c567bb6f0fd div.sk-parallel-item::after {content: \"\";width: 100%;border-bottom: 1px solid gray;flex-grow: 1;}#sk-f928e1a6-25fa-4bf9-885b-7c567bb6f0fd div.sk-label:hover label.sk-toggleable__label {background-color: #d4ebff;}#sk-f928e1a6-25fa-4bf9-885b-7c567bb6f0fd div.sk-serial::before {content: \"\";position: absolute;border-left: 1px solid gray;box-sizing: border-box;top: 2em;bottom: 0;left: 50%;}#sk-f928e1a6-25fa-4bf9-885b-7c567bb6f0fd div.sk-serial {display: flex;flex-direction: column;align-items: center;background-color: white;padding-right: 0.2em;padding-left: 0.2em;}#sk-f928e1a6-25fa-4bf9-885b-7c567bb6f0fd div.sk-item {z-index: 1;}#sk-f928e1a6-25fa-4bf9-885b-7c567bb6f0fd div.sk-parallel {display: flex;align-items: stretch;justify-content: center;background-color: white;}#sk-f928e1a6-25fa-4bf9-885b-7c567bb6f0fd div.sk-parallel::before {content: \"\";position: absolute;border-left: 1px solid gray;box-sizing: border-box;top: 2em;bottom: 0;left: 50%;}#sk-f928e1a6-25fa-4bf9-885b-7c567bb6f0fd div.sk-parallel-item {display: flex;flex-direction: column;position: relative;background-color: white;}#sk-f928e1a6-25fa-4bf9-885b-7c567bb6f0fd div.sk-parallel-item:first-child::after {align-self: flex-end;width: 50%;}#sk-f928e1a6-25fa-4bf9-885b-7c567bb6f0fd div.sk-parallel-item:last-child::after {align-self: flex-start;width: 50%;}#sk-f928e1a6-25fa-4bf9-885b-7c567bb6f0fd div.sk-parallel-item:only-child::after {width: 0;}#sk-f928e1a6-25fa-4bf9-885b-7c567bb6f0fd div.sk-dashed-wrapped {border: 1px dashed gray;margin: 0 0.4em 0.5em 0.4em;box-sizing: border-box;padding-bottom: 0.4em;background-color: white;position: relative;}#sk-f928e1a6-25fa-4bf9-885b-7c567bb6f0fd div.sk-label label {font-family: monospace;font-weight: bold;background-color: white;display: inline-block;line-height: 1.2em;}#sk-f928e1a6-25fa-4bf9-885b-7c567bb6f0fd div.sk-label-container {position: relative;z-index: 2;text-align: center;}#sk-f928e1a6-25fa-4bf9-885b-7c567bb6f0fd div.sk-container {display: inline-block;position: relative;}</style><div id=\"sk-f928e1a6-25fa-4bf9-885b-7c567bb6f0fd\" class\"sk-top-container\"><div class=\"sk-container\"><div class=\"sk-item sk-dashed-wrapped\"><div class=\"sk-label-container\"><div class=\"sk-label sk-toggleable\"><input class=\"sk-toggleable__control sk-hidden--visually\" id=\"82e1b588-32dd-4453-8805-beaa5bb2be6a\" type=\"checkbox\" ><label class=\"sk-toggleable__label\" for=\"82e1b588-32dd-4453-8805-beaa5bb2be6a\">Pipeline</label><div class=\"sk-toggleable__content\"><pre>Pipeline(steps=[('columntransformer',\n",
       "                 ColumnTransformer(remainder='passthrough',\n",
       "                                   transformers=[('onehotencoder',\n",
       "                                                  OneHotEncoder(handle_unknown='ignore',\n",
       "                                                                sparse=False),\n",
       "                                                  ['park'])])),\n",
       "                ('standardscaler', StandardScaler()),\n",
       "                ('polynomialfeatures', PolynomialFeatures()),\n",
       "                ('elasticnet', ElasticNet())])</pre></div></div></div><div class=\"sk-serial\"><div class=\"sk-item sk-dashed-wrapped\"><div class=\"sk-label-container\"><div class=\"sk-label sk-toggleable\"><input class=\"sk-toggleable__control sk-hidden--visually\" id=\"dddf3313-a497-4e7b-99ba-619b4f9823a1\" type=\"checkbox\" ><label class=\"sk-toggleable__label\" for=\"dddf3313-a497-4e7b-99ba-619b4f9823a1\">columntransformer: ColumnTransformer</label><div class=\"sk-toggleable__content\"><pre>ColumnTransformer(remainder='passthrough',\n",
       "                  transformers=[('onehotencoder',\n",
       "                                 OneHotEncoder(handle_unknown='ignore',\n",
       "                                               sparse=False),\n",
       "                                 ['park'])])</pre></div></div></div><div class=\"sk-parallel\"><div class=\"sk-parallel-item\"><div class=\"sk-item\"><div class=\"sk-label-container\"><div class=\"sk-label sk-toggleable\"><input class=\"sk-toggleable__control sk-hidden--visually\" id=\"dfab9c2a-f64c-4487-bb6e-378eb90eafc8\" type=\"checkbox\" ><label class=\"sk-toggleable__label\" for=\"dfab9c2a-f64c-4487-bb6e-378eb90eafc8\">onehotencoder</label><div class=\"sk-toggleable__content\"><pre>['park']</pre></div></div></div><div class=\"sk-serial\"><div class=\"sk-item\"><div class=\"sk-estimator sk-toggleable\"><input class=\"sk-toggleable__control sk-hidden--visually\" id=\"25b2a4b6-f334-42c0-9fd4-d39b88ad32e1\" type=\"checkbox\" ><label class=\"sk-toggleable__label\" for=\"25b2a4b6-f334-42c0-9fd4-d39b88ad32e1\">OneHotEncoder</label><div class=\"sk-toggleable__content\"><pre>OneHotEncoder(handle_unknown='ignore', sparse=False)</pre></div></div></div></div></div></div><div class=\"sk-parallel-item\"><div class=\"sk-item\"><div class=\"sk-label-container\"><div class=\"sk-label sk-toggleable\"><input class=\"sk-toggleable__control sk-hidden--visually\" id=\"7ed6d4c7-e78b-4676-8506-da4eb2f7f39a\" type=\"checkbox\" ><label class=\"sk-toggleable__label\" for=\"7ed6d4c7-e78b-4676-8506-da4eb2f7f39a\">remainder</label><div class=\"sk-toggleable__content\"><pre>['text_word_count', 'subjectivity', 'tb_polarity', 'vs_polarity']</pre></div></div></div><div class=\"sk-serial\"><div class=\"sk-item\"><div class=\"sk-estimator sk-toggleable\"><input class=\"sk-toggleable__control sk-hidden--visually\" id=\"bb10ddd7-dd58-485c-b0ed-b5dfb63bec5a\" type=\"checkbox\" ><label class=\"sk-toggleable__label\" for=\"bb10ddd7-dd58-485c-b0ed-b5dfb63bec5a\">passthrough</label><div class=\"sk-toggleable__content\"><pre>passthrough</pre></div></div></div></div></div></div></div></div><div class=\"sk-item\"><div class=\"sk-estimator sk-toggleable\"><input class=\"sk-toggleable__control sk-hidden--visually\" id=\"16b266c9-a622-4e56-9d82-3596d1787bef\" type=\"checkbox\" ><label class=\"sk-toggleable__label\" for=\"16b266c9-a622-4e56-9d82-3596d1787bef\">StandardScaler</label><div class=\"sk-toggleable__content\"><pre>StandardScaler()</pre></div></div></div><div class=\"sk-item\"><div class=\"sk-estimator sk-toggleable\"><input class=\"sk-toggleable__control sk-hidden--visually\" id=\"ad328f36-507b-4bf7-b0e7-d4c7899aee0c\" type=\"checkbox\" ><label class=\"sk-toggleable__label\" for=\"ad328f36-507b-4bf7-b0e7-d4c7899aee0c\">PolynomialFeatures</label><div class=\"sk-toggleable__content\"><pre>PolynomialFeatures()</pre></div></div></div><div class=\"sk-item\"><div class=\"sk-estimator sk-toggleable\"><input class=\"sk-toggleable__control sk-hidden--visually\" id=\"7e0bcff4-cf7e-41a5-bd27-16238fad181f\" type=\"checkbox\" ><label class=\"sk-toggleable__label\" for=\"7e0bcff4-cf7e-41a5-bd27-16238fad181f\">ElasticNet</label><div class=\"sk-toggleable__content\"><pre>ElasticNet()</pre></div></div></div></div></div></div></div>"
      ],
      "text/plain": [
       "Pipeline(steps=[('columntransformer',\n",
       "                 ColumnTransformer(remainder='passthrough',\n",
       "                                   transformers=[('onehotencoder',\n",
       "                                                  OneHotEncoder(handle_unknown='ignore',\n",
       "                                                                sparse=False),\n",
       "                                                  ['park'])])),\n",
       "                ('standardscaler', StandardScaler()),\n",
       "                ('polynomialfeatures', PolynomialFeatures()),\n",
       "                ('elasticnet', ElasticNet())])"
      ]
     },
     "execution_count": 161,
     "metadata": {},
     "output_type": "execute_result"
    }
   ],
   "source": [
    "pipe.fit(X_train, y_train)"
   ]
  },
  {
   "cell_type": "code",
   "execution_count": 162,
   "id": "3f3ef430-e7bd-4425-95e4-a21f9bda4e43",
   "metadata": {},
   "outputs": [],
   "source": [
    "preds = pipe.predict(X_test)"
   ]
  },
  {
   "cell_type": "code",
   "execution_count": 163,
   "id": "78e99eab-01de-411c-9b31-1285aaf2342f",
   "metadata": {},
   "outputs": [
    {
     "data": {
      "text/plain": [
       "0.13490983534190581"
      ]
     },
     "execution_count": 163,
     "metadata": {},
     "output_type": "execute_result"
    }
   ],
   "source": [
    "pipe.score(X_test, y_test)"
   ]
  },
  {
   "cell_type": "markdown",
   "id": "db9e8e10-0101-4313-a8e5-e002356d276e",
   "metadata": {},
   "source": [
    "This model did significantly worse than other models so we will not Grid Search for this one."
   ]
  }
 ],
 "metadata": {
  "kernelspec": {
   "display_name": "Python 3 (ipykernel)",
   "language": "python",
   "name": "python3"
  },
  "language_info": {
   "codemirror_mode": {
    "name": "ipython",
    "version": 3
   },
   "file_extension": ".py",
   "mimetype": "text/x-python",
   "name": "python",
   "nbconvert_exporter": "python",
   "pygments_lexer": "ipython3",
   "version": "3.9.7"
  }
 },
 "nbformat": 4,
 "nbformat_minor": 5
}
